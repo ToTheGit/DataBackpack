{
 "cells": [
  {
   "cell_type": "code",
   "execution_count": 1,
   "metadata": {},
   "outputs": [],
   "source": [
    "# MV/MVP/RP/MD 모형\n",
    "\n",
    "%matplotlib inline\n",
    "import matplotlib.pylab as plt\n",
    "import scipy.optimize as sco\n",
    "import pandas as pd \n",
    "import numpy as np\n",
    "from numpy.linalg import inv\n",
    "from matplotlib import font_manager, rc\n",
    "\n",
    "from dateutil.relativedelta import relativedelta\n",
    "\n",
    "plt.style.use('seaborn')\n",
    "\n",
    "FONT_NAME = font_manager.FontProperties(fname=\"c:/Windows/Fonts/malgun.ttf\").get_name()\n",
    "rc('font', family=FONT_NAME)\n",
    "\n",
    "folder_dir = 'C:/data\\실습데이터'\n",
    "DATA_FILE = \"KRX300_수정주가_실습.xlsx\"\n",
    "\n",
    "data_wb = pd.ExcelFile(folder_dir + \"/\" + DATA_FILE)\n",
    "\n",
    "adj_price = data_wb.parse(\"Sheet1\",  index_col=0)\n",
    "\n"
   ]
  },
  {
   "cell_type": "code",
   "execution_count": 2,
   "metadata": {
    "scrolled": true
   },
   "outputs": [
    {
     "name": "stdout",
     "output_type": "stream",
     "text": [
      "                LG전자       현대차     NAVER      삼성물산     SK텔레콤      KT&G\n",
      "2015-01-31       NaN       NaN       NaN       NaN       NaN       NaN\n",
      "2015-02-28  0.016447 -0.053097 -0.076812  0.191176 -0.008644 -0.002494\n",
      "2015-03-31 -0.046926  0.049844  0.015130 -0.077160 -0.048875  0.108750\n",
      "2015-04-30  0.025467  0.002967 -0.031297  0.060201  0.053216  0.072153\n",
      "2015-05-31 -0.084437 -0.065089 -0.063079  0.211356 -0.141120  0.013670\n",
      "2015-06-30 -0.146474 -0.139241  0.041050 -0.075521  0.014202 -0.015560\n"
     ]
    }
   ],
   "source": [
    "universe =adj_price[['LG전자','현대차','NAVER','삼성물산','SK텔레콤','KT&G']].loc['2015-01-01':'2022-08-31']\n",
    "df=universe.resample('M').last().pct_change(1)\n",
    "print(df.head(6))"
   ]
  },
  {
   "cell_type": "code",
   "execution_count": 3,
   "metadata": {},
   "outputs": [
    {
     "data": {
      "text/plain": [
       "matrix([[0.16666667, 0.16666667, 0.16666667, 0.16666667, 0.16666667,\n",
       "         0.16666667]])"
      ]
     },
     "metadata": {},
     "output_type": "display_data"
    },
    {
     "data": {
      "text/plain": [
       "array([0.13450663, 0.06624285, 0.11627202, 0.02699865, 0.02811072,\n",
       "       0.02152712])"
      ]
     },
     "metadata": {},
     "output_type": "display_data"
    },
    {
     "data": {
      "text/plain": [
       "array([[ 0.14806583,  0.04850407,  0.03407708,  0.03512789,  0.02417092,\n",
       "         0.00172856],\n",
       "       [ 0.04850407,  0.09963468,  0.02299514,  0.01411994,  0.0267349 ,\n",
       "         0.01162076],\n",
       "       [ 0.03407708,  0.02299514,  0.09804264,  0.01867757,  0.01104912,\n",
       "        -0.00060413],\n",
       "       [ 0.03512789,  0.01411994,  0.01867757,  0.08726477,  0.00907855,\n",
       "        -0.00317799],\n",
       "       [ 0.02417092,  0.0267349 ,  0.01104912,  0.00907855,  0.04523314,\n",
       "         0.01037032],\n",
       "       [ 0.00172856,  0.01162076, -0.00060413, -0.00317799,  0.01037032,\n",
       "         0.0341191 ]])"
      ]
     },
     "metadata": {},
     "output_type": "display_data"
    }
   ],
   "source": [
    "# W =np.array([0.1,0.3,0.25,0.16,0.09,0.1])# 시가총액합으로 부터 시장 비중 계산\n",
    "\n",
    "covmat= np.array(df.cov()*12)      # 수익률의 공분산\n",
    "exret= np.array(df.mean()*12)      #  종목별 기대수익률 \n",
    "names=['LG전자','현대차','NAVER','삼성물산','SK텔레콤','KT&G']\n",
    "n_assets = len(names)\n",
    "rf = .02  # 무위험이자율\n",
    "pweight=n_assets*[1/n_assets]\n",
    "weight=np.matrix(pweight)\n",
    "display(weight,exret,covmat)"
   ]
  },
  {
   "cell_type": "code",
   "execution_count": 56,
   "metadata": {},
   "outputs": [
    {
     "name": "stdout",
     "output_type": "stream",
     "text": [
      "[[-0.26817546]]\n"
     ]
    }
   ],
   "source": [
    "\n",
    "# Tangent Portfolio\n",
    "\n",
    "\n",
    "def sharpe_ratio(weights,returns,covmat,rf):\n",
    "    ret=np.sum(returns*weights.T)\n",
    "    std=np.sqrt(np.dot(weights,np.dot(covmat,weights.T)))\n",
    "    sharpe =-(ret-rf)/std    # 최소화--> 최대화 되므로 마이너스 붙인다.\n",
    "    \n",
    "    return sharpe\n",
    "\n",
    "\n",
    "gg=sharpe_ratio(weight,exret,covmat,0.02)\n",
    "print(gg)\n"
   ]
  },
  {
   "cell_type": "code",
   "execution_count": 57,
   "metadata": {},
   "outputs": [
    {
     "name": "stdout",
     "output_type": "stream",
     "text": [
      "       allocation\n",
      "LG전자        34.70\n",
      "현대차          1.07\n",
      "NAVER       47.14\n",
      "삼성물산         0.00\n",
      "SK텔레콤        0.00\n",
      "KT&G        17.09\n"
     ]
    },
    {
     "data": {
      "text/plain": [
       "<AxesSubplot:>"
      ]
     },
     "execution_count": 57,
     "metadata": {},
     "output_type": "execute_result"
    },
    {
     "data": {
      "image/png": "[encoded data removed]",
      "text/plain": [
       "<Figure size 576x396 with 1 Axes>"
      ]
     },
     "metadata": {},
     "output_type": "display_data"
    }
   ],
   "source": [
    "\n",
    "def mean_variance_optimization(returns,cov_mat,rf):\n",
    "    \n",
    "    num_assets=len(returns)\n",
    "    args=(returns,covmat,rf)\n",
    "    constraints=({'type': 'eq','fun': lambda x: np.sum(x)-1})\n",
    "    bounds=[(0,1) for i in range(num_assets)]\n",
    "    \n",
    "    result= sco.minimize(sharpe_ratio,num_assets*[1./num_assets,],args=args, method='SLSQP',\n",
    "                         bounds=bounds,constraints=constraints)\n",
    "    \n",
    "    MVO_Allocation =pd.DataFrame(result.x,index=df.columns,columns=['allocation'])  # 종목명 인덱스만 가져다 쓴다.\n",
    "    \n",
    "    return round(MVO_Allocation*100,2)\n",
    "\n",
    "    \n",
    "ans =mean_variance_optimization(exret,covmat,0.01)\n",
    "print(ans)\n",
    "ans.plot.bar()\n",
    "\n",
    "\n",
    "\n"
   ]
  },
  {
   "cell_type": "code",
   "execution_count": 58,
   "metadata": {},
   "outputs": [],
   "source": [
    "# Minimum Variance  Portfolio =MVP\n",
    "\n",
    "def get_portf_vol(weights, returns, cov_mat):\n",
    "    return np.sqrt(np.dot(weights.T, np.dot(cov_mat, weights)))"
   ]
  },
  {
   "cell_type": "code",
   "execution_count": 50,
   "metadata": {},
   "outputs": [
    {
     "name": "stdout",
     "output_type": "stream",
     "text": [
      "       allocation\n",
      "LG전자         0.92\n",
      "현대차          1.06\n",
      "NAVER       12.48\n",
      "삼성물산        16.82\n",
      "SK텔레콤       21.22\n",
      "KT&G        47.49\n"
     ]
    },
    {
     "data": {
      "text/plain": [
       "<AxesSubplot:>"
      ]
     },
     "execution_count": 50,
     "metadata": {},
     "output_type": "execute_result"
    },
    {
     "data": {
      "image/png": "[encoded data removed]",
      "text/plain": [
       "<Figure size 576x396 with 1 Axes>"
      ]
     },
     "metadata": {},
     "output_type": "display_data"
    }
   ],
   "source": [
    "\n",
    "\n",
    "def minimum_variance_optimization(returns,cov_mat):\n",
    "    \n",
    "    num_assets=len(returns)\n",
    "    args=(returns,covmat)\n",
    "    constraints=({'type': 'eq','fun': lambda x: np.sum(x)-1})\n",
    "    bounds=[(0,1) for i in range(num_assets)]\n",
    "    \n",
    "    result5= sco.minimize(get_portf_vol,num_assets*[1./num_assets,],args=args, method='SLSQP',\n",
    "                         bounds=bounds,constraints=constraints)\n",
    "    \n",
    "    MVO_Allocation =pd.DataFrame(result5.x,index=df.columns,columns=['allocation'])  # 종목명 인덱스만 가져다 쓴다.\n",
    "    \n",
    "    return round(MVO_Allocation*100,2)\n",
    "\n",
    "    \n",
    "mnn =minimum_variance_optimization(exret,covmat)\n",
    "print(mnn)\n",
    "mnn.plot.bar()\n"
   ]
  },
  {
   "cell_type": "code",
   "execution_count": 8,
   "metadata": {},
   "outputs": [
    {
     "name": "stdout",
     "output_type": "stream",
     "text": [
      "(array([0.02334978, 0.0371745 , 0.0320604 , 0.03892101, 0.02023591,\n",
      "       0.04339819]), 0.19513979968587294)\n"
     ]
    }
   ],
   "source": [
    "\n",
    "###  Risk parity  ###\n",
    "\n",
    "\n",
    "\n",
    "weight=pweight  # 초기값은 동일비중으로\n",
    "\n",
    "\n",
    "def Risk_Contribution(weight,cov_matrix) :\n",
    "    \n",
    "    weight =np.array(weight)\n",
    "    std=np.sqrt(np.dot(weight.T,np.dot(cov_matrix,weight)))\n",
    "    mrc=np.dot(cov_matrix,weight)/std\n",
    "    rc=weight*mrc\n",
    "    \n",
    "    return rc, std\n",
    "\n",
    "\n",
    "rcc=Risk_Contribution(weight,covmat) \n",
    "\n",
    "print(rcc)\n",
    "\n",
    "\n",
    "\n",
    "\n",
    "\n",
    "\n"
   ]
  },
  {
   "cell_type": "code",
   "execution_count": 9,
   "metadata": {},
   "outputs": [],
   "source": [
    "def risk_parity_target(weight) :\n",
    "    \n",
    "    rc,std=Risk_Contribution(weight,covmat)\n",
    "    RC_assets=rc\n",
    "    RC_target=std/len(rc) \n",
    "    objective_fun=np.sum(np.square(RC_assets-RC_target.T))\n",
    "    \n",
    "    return objective_fun\n",
    "\n"
   ]
  },
  {
   "cell_type": "code",
   "execution_count": 10,
   "metadata": {},
   "outputs": [
    {
     "name": "stdout",
     "output_type": "stream",
     "text": [
      "       allocation\n",
      "삼성전자        20.38\n",
      "현대차         14.15\n",
      "NAVER       15.94\n",
      "한화          13.70\n",
      "SK텔레콤       23.23\n",
      "LG화학        12.61\n"
     ]
    },
    {
     "data": {
      "text/plain": [
       "<AxesSubplot:>"
      ]
     },
     "execution_count": 10,
     "metadata": {},
     "output_type": "execute_result"
    },
    {
     "data": {
      "image/png": "[encoded data removed]",
      "text/plain": [
       "<Figure size 576x396 with 1 Axes>"
      ]
     },
     "metadata": {},
     "output_type": "display_data"
    }
   ],
   "source": [
    "def risk_parity_optimization(cov_matrix):\n",
    "    \n",
    "    TOLERANCE= 1e-20\n",
    "    num_assets=len(cov_matrix)\n",
    "    constraints=({'type': 'eq','fun': lambda x: np.sum(x)-1.0},{'type': 'ineq','fun': lambda x: x})  \n",
    "    result=sco.minimize(risk_parity_target,num_assets*[1./num_assets,],method='SLSQP',\n",
    "                       constraints=constraints, tol=TOLERANCE)    \n",
    "    Risk_Parity_Allocation=pd.DataFrame(result.x,index=df.columns,columns=['allocation'])\n",
    " \n",
    "    return  round(Risk_Parity_Allocation*100,2)              \n",
    "\n",
    "rpo= risk_parity_optimization(covmat)\n",
    "\n",
    "print(rpo)\n",
    "rpo.plot.bar()\n",
    "\n"
   ]
  },
  {
   "cell_type": "code",
   "execution_count": 11,
   "metadata": {},
   "outputs": [],
   "source": [
    "###  Maximum Diversification\n",
    "\n",
    "def diversification_ratio(weight, covmat):\n",
    "    w_vol = np.dot(np.sqrt(np.diag(covmat)), weight.T)\n",
    "    port_vol = np.sqrt(weight.T @ covmat @ weight)\n",
    "    diversification_ratio = w_vol/port_vol\n",
    "    return -diversification_ratio"
   ]
  },
  {
   "cell_type": "code",
   "execution_count": 12,
   "metadata": {},
   "outputs": [],
   "source": [
    "def Most_Diversified(covmat, lb, ub):\n",
    "    x0 = np.repeat(1/covmat.shape[1], covmat.shape[1]) \n",
    "    lbound  = np.repeat(lb, covmat.shape[1])\n",
    "    ubound = np.repeat(ub, covmat.shape[1])\n",
    "    bnds = tuple(zip(lbound, ubound))\n",
    "    constraints = ({'type': 'eq', 'fun': lambda x: np.sum(x)-1.0})\n",
    "           \n",
    "    options = {'ftol': 1e-20, 'maxiter': 800}\n",
    "    result =sco.minimize(fun = diversification_ratio,\n",
    "                      x0 = x0,\n",
    "                      args = covmat,\n",
    "                      method = 'SLSQP',\n",
    "                      constraints = constraints,\n",
    "                      options = options,\n",
    "                      bounds = bnds)\n",
    "    MD_Allocation=pd.DataFrame(result.x,index=df.columns,columns=['allocation'])\n",
    "    \n",
    "    return round( MD_Allocation*100,2)   "
   ]
  },
  {
   "cell_type": "code",
   "execution_count": 46,
   "metadata": {},
   "outputs": [
    {
     "name": "stdout",
     "output_type": "stream",
     "text": [
      "       allocation\n",
      "삼성전자        23.18\n",
      "현대차         10.94\n",
      "NAVER       18.15\n",
      "한화           9.06\n",
      "SK텔레콤       27.64\n",
      "LG화학        11.04\n"
     ]
    },
    {
     "data": {
      "text/plain": [
       "<AxesSubplot:>"
      ]
     },
     "execution_count": 46,
     "metadata": {},
     "output_type": "execute_result"
    },
    {
     "data": {
      "image/png": "[encoded data removed]",
      "text/plain": [
       "<Figure size 576x396 with 1 Axes>"
      ]
     },
     "metadata": {},
     "output_type": "display_data"
    }
   ],
   "source": [
    "\n",
    "md= Most_Diversified(covmat,0.0,1.0)\n",
    "\n",
    "print(md)\n",
    "md.plot.bar()"
   ]
  },
  {
   "cell_type": "code",
   "execution_count": 4,
   "metadata": {},
   "outputs": [
    {
     "name": "stdout",
     "output_type": "stream",
     "text": [
      "[[0.09357579]\n",
      " [0.09453762]\n",
      " [0.07907083]\n",
      " [0.05486434]\n",
      " [0.04033299]\n",
      " [0.01499149]]\n"
     ]
    }
   ],
   "source": [
    "# Black Litterman  모형\n",
    "\n",
    "mwt =np.array([0.1,0.3,0.25,0.16,0.09,0.1])  # 시장비중\n",
    "\n",
    "def equilibrium_expected_return(returns,covmat,market_weight):\n",
    "    y_returns=returns\n",
    "    variance=np.dot(market_weight.T,np.dot(covmat,market_weight))\n",
    "    ra=np.dot(market_weight.T,y_returns)/variance\n",
    "    mw=np.array([market_weight])\n",
    "    err=ra*covmat@mw.T\n",
    "    return err\n",
    "\n",
    "equi=equilibrium_expected_return(exret,covmat,mwt)\n",
    "\n",
    "print(equi)"
   ]
  },
  {
   "cell_type": "code",
   "execution_count": 20,
   "metadata": {},
   "outputs": [
    {
     "name": "stdout",
     "output_type": "stream",
     "text": [
      "[[0. 0. 0. 0. 0. 0.]\n",
      " [0. 0. 0. 0. 0. 0.]\n",
      " [0. 0. 0. 0. 0. 0.]]\n",
      "[[ 0.   0.   0.   1.   0.   0. ]\n",
      " [ 1.  -1.   0.   0.   0.   0. ]\n",
      " [ 0.   0.   1.   0.  -0.5 -0.5]]\n"
     ]
    }
   ],
   "source": [
    "k=3\n",
    "def view_P(num_view,num_asset):\n",
    "     P=np.zeros([num_view,num_asset])\n",
    "     return P\n",
    "\n",
    "print(view_P(k,n_assets))\n",
    "\n",
    "# pm=np.array([[0, 0, 0, 0, 0, 0],[0,0, 0, 0, 0, 0],[0, 0, 0, 0, 0,0]])  # 전망치 없을 경우\n",
    "pm=np.array([[0, 0, 0, 1, 0, 0],[1,-1, 0, 0, 0, 0],[0, 0, 1, 0, -0.5,-0.5]])  \n",
    "print(pm)"
   ]
  },
  {
   "cell_type": "code",
   "execution_count": 21,
   "metadata": {},
   "outputs": [
    {
     "name": "stdout",
     "output_type": "stream",
     "text": [
      "[[0.02]\n",
      " [0.03]\n",
      " [0.01]]\n"
     ]
    }
   ],
   "source": [
    "# v_return=[0.00,0.00,0.00]  # 전망치 없을 경우\n",
    "\n",
    "v_return=[0.02,0.03,0.01]\n",
    "\n",
    "def view_Q(view_return):\n",
    "    q=np.array([view_return])\n",
    "    Q=q.reshape(len(view_return),1)\n",
    "    return Q\n",
    "\n",
    "Q=view_Q(v_return)\n",
    "\n",
    "print(Q)\n"
   ]
  },
  {
   "cell_type": "code",
   "execution_count": 22,
   "metadata": {},
   "outputs": [
    {
     "name": "stdout",
     "output_type": "stream",
     "text": [
      "[[0.08726477 0.         0.        ]\n",
      " [0.         0.15069238 0.        ]\n",
      " [0.         0.         0.11262086]]\n"
     ]
    }
   ],
   "source": [
    "tau =1\n",
    "\n",
    "def omega_matrix(tau,view_P,covmat):\n",
    "    oa=np.diag(tau*view_P@covmat@view_P.T,k=0)\n",
    "    omega =np.diag(oa)\n",
    "    return omega\n",
    "\n",
    "omega=omega_matrix(tau,pm,covmat)\n",
    "print(omega)\n"
   ]
  },
  {
   "cell_type": "code",
   "execution_count": 23,
   "metadata": {},
   "outputs": [],
   "source": [
    "# 최종 전망결합기대수익률\n",
    "\n",
    "def BL_expected_return(tau,covmat,equilibrium_expected_return,view_P,view_Q,omega_matrix):\n",
    "   \n",
    "    \n",
    "     BL=np.linalg.inv(np.linalg.inv(tau*covmat)+(view_P.T@np.linalg.pinv(omega_matrix)@view_P))\\\n",
    "        @(np.linalg.inv(tau*covmat)@equilibrium_expected_return+(view_P.T@np.linalg.pinv(omega_matrix)@view_Q))\n",
    "            \n",
    "     BL_returns=pd.DataFrame(BL, index=df.columns,columns=['BL 기대수익률'])\n",
    "     return BL_returns\n"
   ]
  },
  {
   "cell_type": "code",
   "execution_count": 24,
   "metadata": {},
   "outputs": [
    {
     "name": "stdout",
     "output_type": "stream",
     "text": [
      "       BL 기대수익률\n",
      "LG전자   0.095430\n",
      "현대차    0.084555\n",
      "NAVER  0.060083\n",
      "삼성물산   0.037352\n",
      "SK텔레콤  0.041213\n",
      "KT&G   0.018474\n"
     ]
    },
    {
     "data": {
      "text/plain": [
       "<AxesSubplot:>"
      ]
     },
     "execution_count": 24,
     "metadata": {},
     "output_type": "execute_result"
    },
    {
     "data": {
      "image/png": "[encoded data removed]",
      "text/plain": [
       "<Figure size 576x396 with 1 Axes>"
      ]
     },
     "metadata": {},
     "output_type": "display_data"
    }
   ],
   "source": [
    "BBL=BL_expected_return(tau,covmat,equi,pm,Q,omega)\n",
    "\n",
    "print(BBL)\n",
    "BBL.plot.bar()"
   ]
  },
  {
   "cell_type": "code",
   "execution_count": null,
   "metadata": {},
   "outputs": [],
   "source": []
  }
 ],
 "metadata": {
  "kernelspec": {
   "display_name": "Python 3 (ipykernel)",
   "language": "python",
   "name": "python3"
  },
  "language_info": {
   "codemirror_mode": {
    "name": "ipython",
    "version": 3
   },
   "file_extension": ".py",
   "mimetype": "text/x-python",
   "name": "python",
   "nbconvert_exporter": "python",
   "pygments_lexer": "ipython3",
   "version": "3.9.13"
  }
 },
 "nbformat": 4,
 "nbformat_minor": 4
}
