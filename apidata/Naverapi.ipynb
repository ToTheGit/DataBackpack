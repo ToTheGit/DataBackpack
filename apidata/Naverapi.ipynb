{
 "cells": [
  {
   "cell_type": "code",
   "execution_count": 2,
   "id": "0ee6b95d",
   "metadata": {},
   "outputs": [
    {
     "data": {
      "text/plain": [
       "{'lastBuildDate': 'Fri, 24 Mar 2023 15:37:39 +0900',\n",
       " 'total': 5,\n",
       " 'start': 1,\n",
       " 'display': 5,\n",
       " 'items': [{'title': '남영동양문 을지로점',\n",
       "   'link': '',\n",
       "   'category': '한식>육류,고기요리',\n",
       "   'description': '',\n",
       "   'telephone': '',\n",
       "   'address': '서울특별시 중구 저동2가 76-6 1층 남영동양문',\n",
       "   'roadAddress': '서울특별시 중구 수표로 43 1층 남영동양문',\n",
       "   'mapx': '310956',\n",
       "   'mapy': '551907'},\n",
       "  {'title': '<b>광화문</b>미진',\n",
       "   'link': 'https://mijin1954.modoo.at/',\n",
       "   'category': '음식점>한식',\n",
       "   'description': '',\n",
       "   'telephone': '',\n",
       "   'address': '서울특별시 종로구 청진동 146',\n",
       "   'roadAddress': '서울특별시 종로구 종로 19',\n",
       "   'mapx': '310085',\n",
       "   'mapy': '552527'},\n",
       "  {'title': '달랭이',\n",
       "   'link': '',\n",
       "   'category': '한식>곱창,막창,양',\n",
       "   'description': '',\n",
       "   'telephone': '',\n",
       "   'address': '서울특별시 종로구 익선동 158-5 1층',\n",
       "   'roadAddress': '서울특별시 종로구 돈화문로11나길 16 1층',\n",
       "   'mapx': '311044',\n",
       "   'mapy': '552853'},\n",
       "  {'title': '도토리가든',\n",
       "   'link': 'https://www.instagram.com/dotori__seoul',\n",
       "   'category': '음식점>카페,디저트',\n",
       "   'description': '',\n",
       "   'telephone': '',\n",
       "   'address': '서울특별시 종로구 재동 84-45 1층',\n",
       "   'roadAddress': '서울특별시 종로구 계동길 19-8 1층',\n",
       "   'mapx': '310659',\n",
       "   'mapy': '553359'},\n",
       "  {'title': '초이다이닝 익선점',\n",
       "   'link': '',\n",
       "   'category': '일식>일식당',\n",
       "   'description': '',\n",
       "   'telephone': '',\n",
       "   'address': '서울특별시 종로구 익선동 166-60 1층',\n",
       "   'roadAddress': '서울특별시 종로구 수표로28길 15 1층',\n",
       "   'mapx': '310925',\n",
       "   'mapy': '552781'}]}"
      ]
     },
     "execution_count": 2,
     "metadata": {},
     "output_type": "execute_result"
    }
   ],
   "source": [
    "import requests\n",
    "from urllib.parse import quote     #이 패키지는 한글을 ascii코드로 변환할 때 쓰입니다!!\n",
    "import pandas as pd                #return 받은 값들을 나중에는 데이터프레임 형태로 저장할 거에요!\n",
    "\n",
    "client_id = \"04deV7ajJSEIoivh_j8n\"\n",
    "client_secret = \"zQZSQso3uH\"\n",
    "headers = {'X-Naver-Client-Id':client_id, 'X-Naver-Client-Secret':client_secret}\n",
    "\n",
    "#https://openapi.naver.com/v1/search/local.json?query=____키워드____ $&start=__숫자__\n",
    "url_base=\"https://openapi.naver.com/v1/search/local.json?query=\"     #url의 앞부분, 키워드 입력 전까지~\n",
    "keyword = \"광화문맛집\"                  #input으로 받은 문자열을 ascii코드로 변환합니다!\n",
    "display = \"&display=15\"\n",
    "url_middle=\"&start=7\"                                              #키워드 이후부터 숫자 사이\n",
    "sort = \"&sort=random\"                 #start값을 받습니다\n",
    "\n",
    "url = url_base + keyword + display + url_middle + sort\n",
    "\n",
    "result = requests.get(url,headers = headers).json()                  #결과값을 변수로 지정\n",
    "result                                                               #결과값 출력\n"
   ]
  },
  {
   "cell_type": "code",
   "execution_count": null,
   "id": "953e9b75",
   "metadata": {},
   "outputs": [],
   "source": []
  },
  {
   "cell_type": "code",
   "execution_count": null,
   "id": "8fa9af45",
   "metadata": {},
   "outputs": [],
   "source": []
  },
  {
   "cell_type": "code",
   "execution_count": 4,
   "id": "cba6b63b",
   "metadata": {},
   "outputs": [
    {
     "name": "stdout",
     "output_type": "stream",
     "text": [
      "[{'title': '땀땀', 'link': '', 'category': '음식점>베트남음식', 'description': '', 'telephone': '', 'address': '서울특별시 강남구 역삼동 817-31', 'roadAddress': '서울특별시 강남구 강남대로98길 12-5', 'mapx': '314252', 'mapy': '544696'}, {'title': '쉐이크쉑 강남점', 'link': 'http://shakeshack.kr/', 'category': '양식>햄버거', 'description': '', 'telephone': '', 'address': '서울특별시 강남구 역삼동 809-12 1층', 'roadAddress': '서울특별시 강남구 강남대로 452 (역삼동) 1층', 'mapx': '314053', 'mapy': '544963'}, {'title': '바비레드 강남본점', 'link': 'https://blog.naver.com/bobired_', 'category': '양식>이탈리아음식', 'description': '', 'telephone': '', 'address': '서울특별시 강남구 역삼동 618-18 바비레드', 'roadAddress': '서울특별시 강남구 봉은사로6길 39 바비레드', 'mapx': '314246', 'mapy': '544948'}, {'title': '감성타코 <b>강남역</b>점', 'link': 'http://www.instagram.com/gamsungtaco', 'category': '음식점>멕시코,남미음식', 'description': '', 'telephone': '', 'address': '서울특별시 강남구 역삼동 820-9 지하1층 감성타코', 'roadAddress': '서울특별시 강남구 강남대로 406 지하1층 감성타코', 'mapx': '314219', 'mapy': '544536'}, {'title': '어글리스토브 신논현<b>강남역</b>점', 'link': 'http://www.uglystove.com', 'category': '양식>브런치', 'description': '', 'telephone': '', 'address': '서울특별시 강남구 역삼동 817-36', 'roadAddress': '서울특별시 강남구 강남대로98길 20', 'mapx': '314273', 'mapy': '544742'}]\n"
     ]
    }
   ],
   "source": [
    "import urllib.request\n",
    "import json\n",
    "\n",
    "\n",
    "headers = {\n",
    "    'X-Naver-Client-Id' : '04deV7ajJSEIoivh_j8n',\n",
    "    'X-Naver-Client-Secret' : 'zQZSQso3uH'\n",
    "}\n",
    "\n",
    "query = '강남역 맛집'\n",
    "params = {\n",
    "    'query' : query,\n",
    "    'display' : 10,\n",
    "    'sort' : 'comment' #\n",
    "}\n",
    "\n",
    "search_url = 'https://openapi.naver.com/v1/search/local.json'\n",
    "\n",
    "res = requests.get(search_url, headers=headers, params=params)\n",
    "if res.status_code == 200:\n",
    "  print(res.json().get('items'))\n"
   ]
  },
  {
   "cell_type": "code",
   "execution_count": 18,
   "id": "319cf30b",
   "metadata": {},
   "outputs": [
    {
     "name": "stdout",
     "output_type": "stream",
     "text": [
      "Defaulting to user installation because normal site-packages is not writeable\n",
      "Requirement already satisfied: folium in c:\\users\\nws71\\appdata\\roaming\\python\\python39\\site-packages (0.14.0)\n",
      "Requirement already satisfied: requests in c:\\programdata\\anaconda3\\lib\\site-packages (from folium) (2.28.1)\n",
      "Requirement already satisfied: jinja2>=2.9 in c:\\programdata\\anaconda3\\lib\\site-packages (from folium) (2.11.3)\n",
      "Requirement already satisfied: branca>=0.6.0 in c:\\users\\nws71\\appdata\\roaming\\python\\python39\\site-packages (from folium) (0.6.0)\n",
      "Requirement already satisfied: numpy in c:\\programdata\\anaconda3\\lib\\site-packages (from folium) (1.21.5)\n",
      "Requirement already satisfied: MarkupSafe>=0.23 in c:\\programdata\\anaconda3\\lib\\site-packages (from jinja2>=2.9->folium) (2.0.1)\n",
      "Requirement already satisfied: certifi>=2017.4.17 in c:\\programdata\\anaconda3\\lib\\site-packages (from requests->folium) (2022.9.14)\n",
      "Requirement already satisfied: urllib3<1.27,>=1.21.1 in c:\\programdata\\anaconda3\\lib\\site-packages (from requests->folium) (1.26.11)\n",
      "Requirement already satisfied: idna<4,>=2.5 in c:\\programdata\\anaconda3\\lib\\site-packages (from requests->folium) (3.3)\n",
      "Requirement already satisfied: charset-normalizer<3,>=2 in c:\\programdata\\anaconda3\\lib\\site-packages (from requests->folium) (2.0.4)\n",
      "Note: you may need to restart the kernel to use updated packages.\n"
     ]
    }
   ],
   "source": [
    "pip install folium"
   ]
  },
  {
   "cell_type": "code",
   "execution_count": 19,
   "id": "2275b8fd",
   "metadata": {},
   "outputs": [
    {
     "name": "stdout",
     "output_type": "stream",
     "text": [
      "folium Version: 0.14.0\n"
     ]
    }
   ],
   "source": [
    "import folium\n",
    "print(f\"folium Version: {folium.__version__}\")"
   ]
  },
  {
   "cell_type": "code",
   "execution_count": 24,
   "id": "b5f6a2d0",
   "metadata": {},
   "outputs": [],
   "source": [
    "# 위도, 경도\n",
    "lat, lon = 37.504811111562, 127.025492036104\n",
    "# 줌 크기\n",
    "zoom_size = 15"
   ]
  },
  {
   "cell_type": "code",
   "execution_count": 22,
   "id": "4f71cef2",
   "metadata": {},
   "outputs": [
    {
     "data": {
      "text/html": [
       "<div style=\"width:100%;\"><div style=\"position:relative;width:100%;height:0;padding-bottom:60%;\"><span style=\"color:#565656\">Make this Notebook Trusted to load map: File -> Trust Notebook</span><iframe srcdoc=\"&lt;!DOCTYPE html&gt;\n",
       "&lt;html&gt;\n",
       "&lt;head&gt;\n",
       "    \n",
       "    &lt;meta http-equiv=&quot;content-type&quot; content=&quot;text/html; charset=UTF-8&quot; /&gt;\n",
       "    \n",
       "        &lt;script&gt;\n",
       "            L_NO_TOUCH = false;\n",
       "            L_DISABLE_3D = false;\n",
       "        &lt;/script&gt;\n",
       "    \n",
       "    &lt;style&gt;html, body {width: 100%;height: 100%;margin: 0;padding: 0;}&lt;/style&gt;\n",
       "    &lt;style&gt;#map {position:absolute;top:0;bottom:0;right:0;left:0;}&lt;/style&gt;\n",
       "    &lt;script src=&quot;https://cdn.jsdelivr.net/npm/leaflet@1.9.3/dist/leaflet.js&quot;&gt;&lt;/script&gt;\n",
       "    &lt;script src=&quot;https://code.jquery.com/jquery-1.12.4.min.js&quot;&gt;&lt;/script&gt;\n",
       "    &lt;script src=&quot;https://cdn.jsdelivr.net/npm/bootstrap@5.2.2/dist/js/bootstrap.bundle.min.js&quot;&gt;&lt;/script&gt;\n",
       "    &lt;script src=&quot;https://cdnjs.cloudflare.com/ajax/libs/Leaflet.awesome-markers/2.0.2/leaflet.awesome-markers.js&quot;&gt;&lt;/script&gt;\n",
       "    &lt;link rel=&quot;stylesheet&quot; href=&quot;https://cdn.jsdelivr.net/npm/leaflet@1.9.3/dist/leaflet.css&quot;/&gt;\n",
       "    &lt;link rel=&quot;stylesheet&quot; href=&quot;https://cdn.jsdelivr.net/npm/bootstrap@5.2.2/dist/css/bootstrap.min.css&quot;/&gt;\n",
       "    &lt;link rel=&quot;stylesheet&quot; href=&quot;https://netdna.bootstrapcdn.com/bootstrap/3.0.0/css/bootstrap.min.css&quot;/&gt;\n",
       "    &lt;link rel=&quot;stylesheet&quot; href=&quot;https://cdn.jsdelivr.net/npm/@fortawesome/fontawesome-free@6.2.0/css/all.min.css&quot;/&gt;\n",
       "    &lt;link rel=&quot;stylesheet&quot; href=&quot;https://cdnjs.cloudflare.com/ajax/libs/Leaflet.awesome-markers/2.0.2/leaflet.awesome-markers.css&quot;/&gt;\n",
       "    &lt;link rel=&quot;stylesheet&quot; href=&quot;https://cdn.jsdelivr.net/gh/python-visualization/folium/folium/templates/leaflet.awesome.rotate.min.css&quot;/&gt;\n",
       "    \n",
       "            &lt;meta name=&quot;viewport&quot; content=&quot;width=device-width,\n",
       "                initial-scale=1.0, maximum-scale=1.0, user-scalable=no&quot; /&gt;\n",
       "            &lt;style&gt;\n",
       "                #map_769d000c4708ac7bfc548f71fbc197ce {\n",
       "                    position: relative;\n",
       "                    width: 100.0%;\n",
       "                    height: 100.0%;\n",
       "                    left: 0.0%;\n",
       "                    top: 0.0%;\n",
       "                }\n",
       "                .leaflet-container { font-size: 1rem; }\n",
       "            &lt;/style&gt;\n",
       "        \n",
       "&lt;/head&gt;\n",
       "&lt;body&gt;\n",
       "    \n",
       "    \n",
       "            &lt;div class=&quot;folium-map&quot; id=&quot;map_769d000c4708ac7bfc548f71fbc197ce&quot; &gt;&lt;/div&gt;\n",
       "        \n",
       "&lt;/body&gt;\n",
       "&lt;script&gt;\n",
       "    \n",
       "    \n",
       "            var map_769d000c4708ac7bfc548f71fbc197ce = L.map(\n",
       "                &quot;map_769d000c4708ac7bfc548f71fbc197ce&quot;,\n",
       "                {\n",
       "                    center: [37.504811111562, 127.025492036104],\n",
       "                    crs: L.CRS.EPSG3857,\n",
       "                    zoom: 15,\n",
       "                    zoomControl: true,\n",
       "                    preferCanvas: false,\n",
       "                }\n",
       "            );\n",
       "\n",
       "            \n",
       "\n",
       "        \n",
       "    \n",
       "            var tile_layer_69dd08b177fef74a79b29c5f6aee762d = L.tileLayer(\n",
       "                &quot;https://map.pstatic.net/nrb/styles/basic/1663918673/{z}/{x}/{y}@2x.png?mt=bg.ol.sw&quot;,\n",
       "                {&quot;attribution&quot;: &quot;Naver&quot;, &quot;detectRetina&quot;: false, &quot;maxNativeZoom&quot;: 18, &quot;maxZoom&quot;: 18, &quot;minZoom&quot;: 0, &quot;noWrap&quot;: false, &quot;opacity&quot;: 1, &quot;subdomains&quot;: &quot;abc&quot;, &quot;tms&quot;: false}\n",
       "            ).addTo(map_769d000c4708ac7bfc548f71fbc197ce);\n",
       "        \n",
       "    \n",
       "            var marker_0f34a02cab13d680a7275155f9e6008a = L.marker(\n",
       "                [37.504811111562, 127.025492036104],\n",
       "                {}\n",
       "            ).addTo(map_769d000c4708ac7bfc548f71fbc197ce);\n",
       "        \n",
       "&lt;/script&gt;\n",
       "&lt;/html&gt;\" style=\"position:absolute;width:100%;height:100%;left:0;top:0;border:none !important;\" allowfullscreen webkitallowfullscreen mozallowfullscreen></iframe></div></div>"
      ],
      "text/plain": [
       "<folium.folium.Map at 0x27aae976580>"
      ]
     },
     "execution_count": 22,
     "metadata": {},
     "output_type": "execute_result"
    }
   ],
   "source": [
    "# 네이버지도 타일 설정\n",
    "tiles = \"https://map.pstatic.net/nrb/styles/basic/1663918673/{z}/{x}/{y}@2x.png?mt=bg.ol.sw\"\n",
    "# 속성 설정\n",
    "attr = \"Naver\"\n",
    "# 지도 객체 생성\n",
    "m = folium.Map(location = [lat, lon],\n",
    "               zoom_start = zoom_size,\n",
    "               tiles = tiles,\n",
    "               attr = attr)\n",
    "folium.Marker(location = [lat, lon]).add_to(m)\n",
    "m"
   ]
  },
  {
   "cell_type": "code",
   "execution_count": 25,
   "id": "59142c37",
   "metadata": {},
   "outputs": [
    {
     "data": {
      "text/html": [
       "<div style=\"width:100%;\"><div style=\"position:relative;width:100%;height:0;padding-bottom:60%;\"><span style=\"color:#565656\">Make this Notebook Trusted to load map: File -> Trust Notebook</span><iframe srcdoc=\"&lt;!DOCTYPE html&gt;\n",
       "&lt;html&gt;\n",
       "&lt;head&gt;\n",
       "    \n",
       "    &lt;meta http-equiv=&quot;content-type&quot; content=&quot;text/html; charset=UTF-8&quot; /&gt;\n",
       "    \n",
       "        &lt;script&gt;\n",
       "            L_NO_TOUCH = false;\n",
       "            L_DISABLE_3D = false;\n",
       "        &lt;/script&gt;\n",
       "    \n",
       "    &lt;style&gt;html, body {width: 100%;height: 100%;margin: 0;padding: 0;}&lt;/style&gt;\n",
       "    &lt;style&gt;#map {position:absolute;top:0;bottom:0;right:0;left:0;}&lt;/style&gt;\n",
       "    &lt;script src=&quot;https://cdn.jsdelivr.net/npm/leaflet@1.9.3/dist/leaflet.js&quot;&gt;&lt;/script&gt;\n",
       "    &lt;script src=&quot;https://code.jquery.com/jquery-1.12.4.min.js&quot;&gt;&lt;/script&gt;\n",
       "    &lt;script src=&quot;https://cdn.jsdelivr.net/npm/bootstrap@5.2.2/dist/js/bootstrap.bundle.min.js&quot;&gt;&lt;/script&gt;\n",
       "    &lt;script src=&quot;https://cdnjs.cloudflare.com/ajax/libs/Leaflet.awesome-markers/2.0.2/leaflet.awesome-markers.js&quot;&gt;&lt;/script&gt;\n",
       "    &lt;link rel=&quot;stylesheet&quot; href=&quot;https://cdn.jsdelivr.net/npm/leaflet@1.9.3/dist/leaflet.css&quot;/&gt;\n",
       "    &lt;link rel=&quot;stylesheet&quot; href=&quot;https://cdn.jsdelivr.net/npm/bootstrap@5.2.2/dist/css/bootstrap.min.css&quot;/&gt;\n",
       "    &lt;link rel=&quot;stylesheet&quot; href=&quot;https://netdna.bootstrapcdn.com/bootstrap/3.0.0/css/bootstrap.min.css&quot;/&gt;\n",
       "    &lt;link rel=&quot;stylesheet&quot; href=&quot;https://cdn.jsdelivr.net/npm/@fortawesome/fontawesome-free@6.2.0/css/all.min.css&quot;/&gt;\n",
       "    &lt;link rel=&quot;stylesheet&quot; href=&quot;https://cdnjs.cloudflare.com/ajax/libs/Leaflet.awesome-markers/2.0.2/leaflet.awesome-markers.css&quot;/&gt;\n",
       "    &lt;link rel=&quot;stylesheet&quot; href=&quot;https://cdn.jsdelivr.net/gh/python-visualization/folium/folium/templates/leaflet.awesome.rotate.min.css&quot;/&gt;\n",
       "    \n",
       "            &lt;meta name=&quot;viewport&quot; content=&quot;width=device-width,\n",
       "                initial-scale=1.0, maximum-scale=1.0, user-scalable=no&quot; /&gt;\n",
       "            &lt;style&gt;\n",
       "                #map_1d4f535e048a38f5d3b91c0ad3583cd2 {\n",
       "                    position: relative;\n",
       "                    width: 100.0%;\n",
       "                    height: 100.0%;\n",
       "                    left: 0.0%;\n",
       "                    top: 0.0%;\n",
       "                }\n",
       "                .leaflet-container { font-size: 1rem; }\n",
       "            &lt;/style&gt;\n",
       "        \n",
       "&lt;/head&gt;\n",
       "&lt;body&gt;\n",
       "    \n",
       "    \n",
       "            &lt;div class=&quot;folium-map&quot; id=&quot;map_1d4f535e048a38f5d3b91c0ad3583cd2&quot; &gt;&lt;/div&gt;\n",
       "        \n",
       "&lt;/body&gt;\n",
       "&lt;script&gt;\n",
       "    \n",
       "    \n",
       "            var map_1d4f535e048a38f5d3b91c0ad3583cd2 = L.map(\n",
       "                &quot;map_1d4f535e048a38f5d3b91c0ad3583cd2&quot;,\n",
       "                {\n",
       "                    center: [37.504811111562, 127.025492036104],\n",
       "                    crs: L.CRS.EPSG3857,\n",
       "                    zoom: 15,\n",
       "                    zoomControl: true,\n",
       "                    preferCanvas: false,\n",
       "                }\n",
       "            );\n",
       "\n",
       "            \n",
       "\n",
       "        \n",
       "    \n",
       "            var tile_layer_0a57c1822c259634c2b474ce580b16ef = L.tileLayer(\n",
       "                &quot;http://mt0.google.com/vt/lyrs=m\\u0026hl=ko\\u0026x={x}\\u0026y={y}\\u0026z={z}&quot;,\n",
       "                {&quot;attribution&quot;: &quot;Google&quot;, &quot;detectRetina&quot;: false, &quot;maxNativeZoom&quot;: 18, &quot;maxZoom&quot;: 18, &quot;minZoom&quot;: 0, &quot;noWrap&quot;: false, &quot;opacity&quot;: 1, &quot;subdomains&quot;: &quot;abc&quot;, &quot;tms&quot;: false}\n",
       "            ).addTo(map_1d4f535e048a38f5d3b91c0ad3583cd2);\n",
       "        \n",
       "&lt;/script&gt;\n",
       "&lt;/html&gt;\" style=\"position:absolute;width:100%;height:100%;left:0;top:0;border:none !important;\" allowfullscreen webkitallowfullscreen mozallowfullscreen></iframe></div></div>"
      ],
      "text/plain": [
       "<folium.folium.Map at 0x27aaedff880>"
      ]
     },
     "execution_count": 25,
     "metadata": {},
     "output_type": "execute_result"
    }
   ],
   "source": [
    "# 구글 지도 타일 설정\n",
    "tiles = \"http://mt0.google.com/vt/lyrs=m&hl=ko&x={x}&y={y}&z={z}\"\n",
    "# 속성 설정\n",
    "attr = \"Google\"\n",
    "# 지도 객체 생성\n",
    "m = folium.Map(location = [lat, lon],\n",
    "               zoom_start = zoom_size,\n",
    "               tiles = tiles,\n",
    "               attr = attr)\n",
    "m"
   ]
  }
 ],
 "metadata": {
  "kernelspec": {
   "display_name": "Python 3 (ipykernel)",
   "language": "python",
   "name": "python3"
  },
  "language_info": {
   "codemirror_mode": {
    "name": "ipython",
    "version": 3
   },
   "file_extension": ".py",
   "mimetype": "text/x-python",
   "name": "python",
   "nbconvert_exporter": "python",
   "pygments_lexer": "ipython3",
   "version": "3.9.13"
  }
 },
 "nbformat": 4,
 "nbformat_minor": 5
}
