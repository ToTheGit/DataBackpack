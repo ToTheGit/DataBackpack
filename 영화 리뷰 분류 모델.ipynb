{
 "cells": [
  {
   "cell_type": "code",
   "execution_count": 2,
   "id": "88317c5f",
   "metadata": {},
   "outputs": [],
   "source": [
    "from keras.datasets import imdb\n",
    "\n",
    "(train_data, train_labels), (test_data, test_labels) = imdb.load_data(\n",
    "    num_words=10000)"
   ]
  },
  {
   "cell_type": "code",
   "execution_count": 3,
   "id": "521308b9",
   "metadata": {},
   "outputs": [],
   "source": [
    "word_index = imdb.get_word_index() # word_index는 단어와 정수 인덱스를 매핑한 딕셔너리입니다.\n",
    "reverse_word_index = dict(\n",
    "    # 정수 인덱스와 단어를 매핑하도록 뒤집습니다.\n",
    "    [(value, key) for (key, value) in word_index.items()])\n",
    "decoded_review = ' '.join(\n",
    "    # 리뷰를 디코딩합니다. 0, 1, 2는 ‘패딩’, ‘문서 시작’, ‘사전에 없음’을 위한 인덱스이므로 3을 뺍니다.\n",
    "    [reverse_word_index.get(i - 3, '?') for i in train_data[0]])"
   ]
  },
  {
   "cell_type": "code",
   "execution_count": 4,
   "id": "4b749a1b",
   "metadata": {},
   "outputs": [
    {
     "data": {
      "text/plain": [
       "9999"
      ]
     },
     "execution_count": 4,
     "metadata": {},
     "output_type": "execute_result"
    }
   ],
   "source": [
    "max([max(sequence) for sequence in train_data])"
   ]
  },
  {
   "cell_type": "code",
   "execution_count": 5,
   "id": "23aa7f72",
   "metadata": {},
   "outputs": [
    {
     "data": {
      "text/plain": [
       "1"
      ]
     },
     "execution_count": 5,
     "metadata": {},
     "output_type": "execute_result"
    }
   ],
   "source": [
    "train_labels[0]\n",
    "# train_data[0]"
   ]
  },
  {
   "cell_type": "code",
   "execution_count": 6,
   "id": "6fad7387",
   "metadata": {},
   "outputs": [],
   "source": [
    "import numpy as np\n",
    "\n",
    "def vectorize_sequences(sequences, dimension=10000):\n",
    "    # 크기가 (len(sequences), dimension)이고 모든 원소가 0인 행렬을 만듭니다.\n",
    "    results = np.zeros((len(sequences), dimension))\n",
    "    for i, sequence in enumerate(sequences):\n",
    "        results[i, sequence] = 1. # results[i]에서 특정 인덱스의 위치를 1로 만듭니다.\n",
    "    return results\n",
    "\n",
    "x_train = vectorize_sequences(train_data) # 훈련 데이터를 벡터로 변환합니다.\n",
    "x_test = vectorize_sequences(test_data) # 테스트 데이터를 벡터로 변환합니다."
   ]
  },
  {
   "cell_type": "code",
   "execution_count": 7,
   "id": "8198c37a",
   "metadata": {},
   "outputs": [
    {
     "data": {
      "text/plain": [
       "array([0., 1., 1., ..., 0., 0., 0.])"
      ]
     },
     "execution_count": 7,
     "metadata": {},
     "output_type": "execute_result"
    }
   ],
   "source": [
    "x_train[0]"
   ]
  },
  {
   "cell_type": "code",
   "execution_count": 8,
   "id": "4d07d0b4",
   "metadata": {},
   "outputs": [],
   "source": [
    "y_train = np.asarray(train_labels).astype('float32')\n",
    "y_test = np.asarray(test_labels).astype('float32')"
   ]
  },
  {
   "cell_type": "code",
   "execution_count": 9,
   "id": "991b9cf3",
   "metadata": {},
   "outputs": [],
   "source": [
    "from keras import models\n",
    "from keras import layers\n",
    "\n",
    "model = models.Sequential()\n",
    "model.add(layers.Dense(16, activation='relu', input_shape=(10000,)))\n",
    "model.add(layers.Dense(16, activation='relu'))\n",
    "model.add(layers.Dense(1, activation='sigmoid'))"
   ]
  },
  {
   "cell_type": "code",
   "execution_count": 18,
   "id": "bc9f13f7",
   "metadata": {},
   "outputs": [],
   "source": [
    "model.compile(optimizer='rmsprop',\n",
    "              loss='binary_crossentropy',\n",
    "              metrics=['acc'])"
   ]
  },
  {
   "cell_type": "code",
   "execution_count": null,
   "id": "0823ae1b",
   "metadata": {},
   "outputs": [],
   "source": [
    "# from keras import optimizers\n",
    "# model.compile(optimizer=optimizers.RMSprop(lr=0.001),\n",
    "#               loss='binary_crossentropy',\n",
    "#               metrics=['accuracy'])"
   ]
  },
  {
   "cell_type": "code",
   "execution_count": null,
   "id": "c3b689f9",
   "metadata": {},
   "outputs": [],
   "source": [
    "# from keras import losses\n",
    "# from keras import metrics\n",
    "\n",
    "# model.compile(optimizer=optimizers.RMSprop(lr=0.001),\n",
    "#               loss=losses.binary_crossentropy,\n",
    "#               metrics=[metrics.binary_accuracy])"
   ]
  },
  {
   "cell_type": "code",
   "execution_count": 11,
   "id": "fc3ea610",
   "metadata": {},
   "outputs": [],
   "source": [
    "x_val = x_train[:10000]\n",
    "partial_x_train = x_train[10000:]\n",
    "y_val = y_train[:10000]\n",
    "partial_y_train = y_train[10000:]"
   ]
  },
  {
   "cell_type": "code",
   "execution_count": 12,
   "id": "3da32fdc",
   "metadata": {},
   "outputs": [
    {
     "name": "stdout",
     "output_type": "stream",
     "text": [
      "Epoch 1/20\n",
      "30/30 [==============================] - 5s 146ms/step - loss: 0.5276 - acc: 0.7809 - val_loss: 0.4109 - val_acc: 0.8596\n",
      "Epoch 2/20\n",
      "30/30 [==============================] - 1s 22ms/step - loss: 0.3286 - acc: 0.8965 - val_loss: 0.3390 - val_acc: 0.8708\n",
      "Epoch 3/20\n",
      "30/30 [==============================] - 1s 22ms/step - loss: 0.2473 - acc: 0.9196 - val_loss: 0.3206 - val_acc: 0.8674\n",
      "Epoch 4/20\n",
      "30/30 [==============================] - 1s 20ms/step - loss: 0.1999 - acc: 0.9343 - val_loss: 0.2798 - val_acc: 0.8877\n",
      "Epoch 5/20\n",
      "30/30 [==============================] - 1s 21ms/step - loss: 0.1695 - acc: 0.9429 - val_loss: 0.2749 - val_acc: 0.8888\n",
      "Epoch 6/20\n",
      "30/30 [==============================] - 1s 21ms/step - loss: 0.1400 - acc: 0.9567 - val_loss: 0.2846 - val_acc: 0.8857\n",
      "Epoch 7/20\n",
      "30/30 [==============================] - 1s 19ms/step - loss: 0.1246 - acc: 0.9616 - val_loss: 0.2897 - val_acc: 0.8878\n",
      "Epoch 8/20\n",
      "30/30 [==============================] - 1s 24ms/step - loss: 0.1025 - acc: 0.9704 - val_loss: 0.3120 - val_acc: 0.8795\n",
      "Epoch 9/20\n",
      "30/30 [==============================] - 1s 23ms/step - loss: 0.0874 - acc: 0.9767 - val_loss: 0.3190 - val_acc: 0.8813\n",
      "Epoch 10/20\n",
      "30/30 [==============================] - 1s 18ms/step - loss: 0.0765 - acc: 0.9799 - val_loss: 0.3347 - val_acc: 0.8784\n",
      "Epoch 11/20\n",
      "30/30 [==============================] - 1s 21ms/step - loss: 0.0628 - acc: 0.9843 - val_loss: 0.3542 - val_acc: 0.8796\n",
      "Epoch 12/20\n",
      "30/30 [==============================] - 1s 20ms/step - loss: 0.0521 - acc: 0.9892 - val_loss: 0.3934 - val_acc: 0.8764\n",
      "Epoch 13/20\n",
      "30/30 [==============================] - 1s 18ms/step - loss: 0.0457 - acc: 0.9897 - val_loss: 0.3957 - val_acc: 0.8770\n",
      "Epoch 14/20\n",
      "30/30 [==============================] - 1s 19ms/step - loss: 0.0370 - acc: 0.9923 - val_loss: 0.4213 - val_acc: 0.8765\n",
      "Epoch 15/20\n",
      "30/30 [==============================] - 1s 18ms/step - loss: 0.0302 - acc: 0.9949 - val_loss: 0.4464 - val_acc: 0.8749\n",
      "Epoch 16/20\n",
      "30/30 [==============================] - 1s 18ms/step - loss: 0.0241 - acc: 0.9967 - val_loss: 0.4497 - val_acc: 0.8724\n",
      "Epoch 17/20\n",
      "30/30 [==============================] - 1s 19ms/step - loss: 0.0209 - acc: 0.9969 - val_loss: 0.4795 - val_acc: 0.8730\n",
      "Epoch 18/20\n",
      "30/30 [==============================] - 1s 20ms/step - loss: 0.0161 - acc: 0.9985 - val_loss: 0.5004 - val_acc: 0.8686\n",
      "Epoch 19/20\n",
      "30/30 [==============================] - 1s 23ms/step - loss: 0.0149 - acc: 0.9981 - val_loss: 0.5199 - val_acc: 0.8717\n",
      "Epoch 20/20\n",
      "30/30 [==============================] - 1s 19ms/step - loss: 0.0129 - acc: 0.9984 - val_loss: 0.5376 - val_acc: 0.8719\n"
     ]
    }
   ],
   "source": [
    "model.compile(optimizer='rmsprop',\n",
    "              loss='binary_crossentropy',\n",
    "              metrics=['acc'])\n",
    "\n",
    "history = model.fit(partial_x_train,\n",
    "                    partial_y_train,\n",
    "                    epochs=20,\n",
    "                    batch_size=512,\n",
    "                    validation_data=(x_val, y_val))"
   ]
  },
  {
   "cell_type": "code",
   "execution_count": 13,
   "id": "a7430abb",
   "metadata": {},
   "outputs": [
    {
     "data": {
      "text/plain": [
       "dict_keys(['loss', 'acc', 'val_loss', 'val_acc'])"
      ]
     },
     "execution_count": 13,
     "metadata": {},
     "output_type": "execute_result"
    }
   ],
   "source": [
    "history_dict = history.history\n",
    "history_dict.keys()"
   ]
  },
  {
   "cell_type": "code",
   "execution_count": 14,
   "id": "d4c3c225",
   "metadata": {},
   "outputs": [
    {
     "data": {
      "image/png": "[encoded data removed]",
      "text/plain": [
       "<Figure size 640x480 with 1 Axes>"
      ]
     },
     "metadata": {},
     "output_type": "display_data"
    }
   ],
   "source": [
    "import matplotlib.pyplot as plt\n",
    "\n",
    "history_dict = history.history\n",
    "loss = history_dict['loss']\n",
    "val_loss = history_dict['val_loss']\n",
    "\n",
    "epochs = range(1, len(loss) + 1)\n",
    "\n",
    "plt.plot(epochs, loss, 'bo', label='Training loss')  # ‘bo’는 파란색 점을 의미합니다.\n",
    "plt.plot(epochs, val_loss, 'b', label='Validation loss') # ‘b’는 파란색 실선을 의미합니다.\n",
    "plt.title('Training and validation loss')\n",
    "plt.xlabel('Epochs')\n",
    "plt.ylabel('Loss')\n",
    "plt.legend()\n",
    "\n",
    "plt.show()"
   ]
  },
  {
   "cell_type": "code",
   "execution_count": 15,
   "id": "07c7d49b",
   "metadata": {},
   "outputs": [
    {
     "data": {
      "image/png": "[encoded data removed]",
      "text/plain": [
       "<Figure size 640x480 with 1 Axes>"
      ]
     },
     "metadata": {},
     "output_type": "display_data"
    }
   ],
   "source": [
    "plt.clf() # 그래프를 초기화합니다.\n",
    "acc = history_dict['acc']\n",
    "val_acc = history_dict['val_acc']\n",
    "\n",
    "plt.plot(epochs, acc, 'bo', label='Training acc')\n",
    "plt.plot(epochs, val_acc, 'b', label='Validation acc')\n",
    "plt.title('Training and validation accuracy')\n",
    "plt.xlabel('Epochs')\n",
    "plt.ylabel('Accuracy')\n",
    "plt.legend()\n",
    "\n",
    "plt.show()"
   ]
  },
  {
   "cell_type": "code",
   "execution_count": 24,
   "id": "70bcd46a",
   "metadata": {},
   "outputs": [
    {
     "name": "stdout",
     "output_type": "stream",
     "text": [
      "Epoch 1/20\n",
      "49/49 [==============================] - 2s 12ms/step - loss: 0.4594 - accuracy: 0.8107\n",
      "Epoch 2/20\n",
      "49/49 [==============================] - 1s 12ms/step - loss: 0.2730 - accuracy: 0.9039\n",
      "Epoch 3/20\n",
      "49/49 [==============================] - 1s 13ms/step - loss: 0.2126 - accuracy: 0.9253\n",
      "Epoch 4/20\n",
      "49/49 [==============================] - 1s 12ms/step - loss: 0.1816 - accuracy: 0.9349\n",
      "Epoch 5/20\n",
      "49/49 [==============================] - 1s 12ms/step - loss: 0.1586 - accuracy: 0.9443\n",
      "Epoch 6/20\n",
      "49/49 [==============================] - 1s 13ms/step - loss: 0.1404 - accuracy: 0.9511\n",
      "Epoch 7/20\n",
      "49/49 [==============================] - 1s 13ms/step - loss: 0.1268 - accuracy: 0.9549\n",
      "Epoch 8/20\n",
      "49/49 [==============================] - 1s 13ms/step - loss: 0.1138 - accuracy: 0.9613\n",
      "Epoch 9/20\n",
      "49/49 [==============================] - 1s 12ms/step - loss: 0.1002 - accuracy: 0.9669\n",
      "Epoch 10/20\n",
      "49/49 [==============================] - 1s 13ms/step - loss: 0.0909 - accuracy: 0.9700\n",
      "Epoch 11/20\n",
      "49/49 [==============================] - 1s 12ms/step - loss: 0.0811 - accuracy: 0.9749\n",
      "Epoch 12/20\n",
      "49/49 [==============================] - 1s 13ms/step - loss: 0.0724 - accuracy: 0.9776\n",
      "Epoch 13/20\n",
      "49/49 [==============================] - 1s 14ms/step - loss: 0.0645 - accuracy: 0.9806\n",
      "Epoch 14/20\n",
      "49/49 [==============================] - 1s 13ms/step - loss: 0.0578 - accuracy: 0.9828\n",
      "Epoch 15/20\n",
      "49/49 [==============================] - 1s 14ms/step - loss: 0.0499 - accuracy: 0.9854\n",
      "Epoch 16/20\n",
      "49/49 [==============================] - 1s 13ms/step - loss: 0.0433 - accuracy: 0.9880\n",
      "Epoch 17/20\n",
      "49/49 [==============================] - 1s 12ms/step - loss: 0.0405 - accuracy: 0.9886\n",
      "Epoch 18/20\n",
      "49/49 [==============================] - 1s 12ms/step - loss: 0.0300 - accuracy: 0.9929\n",
      "Epoch 19/20\n",
      "49/49 [==============================] - 1s 12ms/step - loss: 0.0311 - accuracy: 0.9912\n",
      "Epoch 20/20\n",
      "49/49 [==============================] - 1s 11ms/step - loss: 0.0241 - accuracy: 0.9948\n",
      "782/782 [==============================] - 3s 3ms/step - loss: 0.7419 - accuracy: 0.8423\n"
     ]
    }
   ],
   "source": [
    "model = models.Sequential()\n",
    "model.add(layers.Dense(16, activation='relu', input_shape=(10000,)))\n",
    "model.add(layers.Dense(16, activation='relu'))\n",
    "model.add(layers.Dense(1, activation='sigmoid'))\n",
    "\n",
    "model.compile(optimizer='rmsprop',\n",
    "              loss='binary_crossentropy',\n",
    "              metrics=['accuracy'])\n",
    "\n",
    "model.fit(x_train, y_train, epochs=20, batch_size=512)\n",
    "results = model.evaluate(x_test, y_test)\n",
    "\n"
   ]
  },
  {
   "cell_type": "code",
   "execution_count": 25,
   "id": "d3cbef91",
   "metadata": {},
   "outputs": [
    {
     "data": {
      "text/plain": [
       "[0.7418556809425354, 0.8423200249671936]"
      ]
     },
     "execution_count": 25,
     "metadata": {},
     "output_type": "execute_result"
    }
   ],
   "source": [
    "results ## 아주 단순한 방식으로도 87%의 정확도를 달성"
   ]
  },
  {
   "cell_type": "code",
   "execution_count": 26,
   "id": "a8ed388f",
   "metadata": {},
   "outputs": [
    {
     "name": "stdout",
     "output_type": "stream",
     "text": [
      "Epoch 1/20\n",
      "49/49 [==============================] - 2s 13ms/step - loss: 0.4710 - accuracy: 0.7970\n",
      "Epoch 2/20\n",
      "49/49 [==============================] - 1s 12ms/step - loss: 0.2607 - accuracy: 0.9035\n",
      "Epoch 3/20\n",
      "49/49 [==============================] - 1s 13ms/step - loss: 0.2055 - accuracy: 0.9238\n",
      "Epoch 4/20\n",
      "49/49 [==============================] - 1s 13ms/step - loss: 0.1713 - accuracy: 0.9376\n",
      "Epoch 5/20\n",
      "49/49 [==============================] - 1s 13ms/step - loss: 0.1488 - accuracy: 0.9466\n",
      "Epoch 6/20\n",
      "49/49 [==============================] - 1s 13ms/step - loss: 0.1312 - accuracy: 0.9541\n",
      "Epoch 7/20\n",
      "49/49 [==============================] - 1s 15ms/step - loss: 0.1108 - accuracy: 0.9623\n",
      "Epoch 8/20\n",
      "49/49 [==============================] - 1s 14ms/step - loss: 0.0958 - accuracy: 0.9679\n",
      "Epoch 9/20\n",
      "49/49 [==============================] - 1s 15ms/step - loss: 0.0850 - accuracy: 0.9716\n",
      "Epoch 10/20\n",
      "49/49 [==============================] - 1s 20ms/step - loss: 0.0719 - accuracy: 0.9782\n",
      "Epoch 11/20\n",
      "49/49 [==============================] - 1s 19ms/step - loss: 0.0628 - accuracy: 0.9804\n",
      "Epoch 12/20\n",
      "49/49 [==============================] - 1s 21ms/step - loss: 0.0455 - accuracy: 0.9880\n",
      "Epoch 13/20\n",
      "49/49 [==============================] - 1s 18ms/step - loss: 0.0405 - accuracy: 0.9885\n",
      "Epoch 14/20\n",
      "49/49 [==============================] - 1s 18ms/step - loss: 0.0338 - accuracy: 0.9910\n",
      "Epoch 15/20\n",
      "49/49 [==============================] - 1s 17ms/step - loss: 0.0320 - accuracy: 0.9910\n",
      "Epoch 16/20\n",
      "49/49 [==============================] - 1s 16ms/step - loss: 0.0205 - accuracy: 0.9949\n",
      "Epoch 17/20\n",
      "49/49 [==============================] - 1s 16ms/step - loss: 0.0277 - accuracy: 0.9909\n",
      "Epoch 18/20\n",
      "49/49 [==============================] - 1s 15ms/step - loss: 0.0184 - accuracy: 0.9946\n",
      "Epoch 19/20\n",
      "49/49 [==============================] - 1s 13ms/step - loss: 0.0149 - accuracy: 0.9956\n",
      "Epoch 20/20\n",
      "49/49 [==============================] - 1s 13ms/step - loss: 0.0046 - accuracy: 0.9994\n",
      "782/782 [==============================] - 2s 3ms/step - loss: 0.7905 - accuracy: 0.8584\n"
     ]
    }
   ],
   "source": [
    "model = models.Sequential() #은닉층 추가\n",
    "model.add(layers.Dense(16, activation='relu', input_shape=(10000,)))\n",
    "model.add(layers.Dense(16, activation='relu'))\n",
    "model.add(layers.Dense(16, activation='relu'))\n",
    "model.add(layers.Dense(1, activation='sigmoid'))\n",
    "\n",
    "model.compile(optimizer='rmsprop',\n",
    "              loss='binary_crossentropy',\n",
    "              metrics=['accuracy'])\n",
    "\n",
    "model.fit(x_train, y_train, epochs=20, batch_size=512)\n",
    "results = model.evaluate(x_test, y_test)"
   ]
  },
  {
   "cell_type": "code",
   "execution_count": 27,
   "id": "4bd5c4e6",
   "metadata": {},
   "outputs": [
    {
     "name": "stdout",
     "output_type": "stream",
     "text": [
      "Epoch 1/20\n",
      "49/49 [==============================] - 7s 16ms/step - loss: 0.4612 - accuracy: 0.7954\n",
      "Epoch 2/20\n",
      "49/49 [==============================] - 1s 16ms/step - loss: 0.2613 - accuracy: 0.9024\n",
      "Epoch 3/20\n",
      "49/49 [==============================] - 1s 16ms/step - loss: 0.2086 - accuracy: 0.9206\n",
      "Epoch 4/20\n",
      "49/49 [==============================] - 1s 18ms/step - loss: 0.1761 - accuracy: 0.9328\n",
      "Epoch 5/20\n",
      "49/49 [==============================] - 1s 15ms/step - loss: 0.1535 - accuracy: 0.9439\n",
      "Epoch 6/20\n",
      "49/49 [==============================] - 1s 16ms/step - loss: 0.1334 - accuracy: 0.9519\n",
      "Epoch 7/20\n",
      "49/49 [==============================] - 1s 16ms/step - loss: 0.1098 - accuracy: 0.9614\n",
      "Epoch 8/20\n",
      "49/49 [==============================] - 1s 17ms/step - loss: 0.0981 - accuracy: 0.9645\n",
      "Epoch 9/20\n",
      "49/49 [==============================] - 1s 24ms/step - loss: 0.0819 - accuracy: 0.9722\n",
      "Epoch 10/20\n",
      "49/49 [==============================] - 1s 18ms/step - loss: 0.0697 - accuracy: 0.9776\n",
      "Epoch 11/20\n",
      "49/49 [==============================] - 1s 17ms/step - loss: 0.0581 - accuracy: 0.9818\n",
      "Epoch 12/20\n",
      "49/49 [==============================] - 1s 17ms/step - loss: 0.0400 - accuracy: 0.9889\n",
      "Epoch 13/20\n",
      "49/49 [==============================] - 1s 16ms/step - loss: 0.0415 - accuracy: 0.9878\n",
      "Epoch 14/20\n",
      "49/49 [==============================] - 1s 16ms/step - loss: 0.0339 - accuracy: 0.9900\n",
      "Epoch 15/20\n",
      "49/49 [==============================] - 1s 15ms/step - loss: 0.0259 - accuracy: 0.9933\n",
      "Epoch 16/20\n",
      "49/49 [==============================] - 1s 15ms/step - loss: 0.0232 - accuracy: 0.9939\n",
      "Epoch 17/20\n",
      "49/49 [==============================] - 1s 15ms/step - loss: 0.0264 - accuracy: 0.9941\n",
      "Epoch 18/20\n",
      "49/49 [==============================] - 1s 15ms/step - loss: 0.0039 - accuracy: 0.9995\n",
      "Epoch 19/20\n",
      "49/49 [==============================] - 1s 16ms/step - loss: 0.0192 - accuracy: 0.9946\n",
      "Epoch 20/20\n",
      "49/49 [==============================] - 1s 18ms/step - loss: 0.0223 - accuracy: 0.9945\n",
      "782/782 [==============================] - 3s 3ms/step - loss: 0.7828 - accuracy: 0.8596\n"
     ]
    }
   ],
   "source": [
    "model = models.Sequential() #유닛수 32로 증가\n",
    "model.add(layers.Dense(32, activation='relu', input_shape=(10000,)))\n",
    "model.add(layers.Dense(32, activation='relu'))\n",
    "model.add(layers.Dense(32, activation='relu'))\n",
    "model.add(layers.Dense(1, activation='sigmoid'))\n",
    "\n",
    "model.compile(optimizer='rmsprop',\n",
    "              loss='binary_crossentropy',\n",
    "              metrics=['accuracy'])\n",
    "\n",
    "model.fit(x_train, y_train, epochs=20, batch_size=512)\n",
    "results = model.evaluate(x_test, y_test)"
   ]
  },
  {
   "cell_type": "code",
   "execution_count": 28,
   "id": "0ecf9ebe",
   "metadata": {},
   "outputs": [
    {
     "name": "stdout",
     "output_type": "stream",
     "text": [
      "Epoch 1/20\n",
      "49/49 [==============================] - 2s 20ms/step - loss: 0.1547 - accuracy: 0.7862\n",
      "Epoch 2/20\n",
      "49/49 [==============================] - 1s 19ms/step - loss: 0.0819 - accuracy: 0.8948\n",
      "Epoch 3/20\n",
      "49/49 [==============================] - 1s 19ms/step - loss: 0.0642 - accuracy: 0.9188\n",
      "Epoch 4/20\n",
      "49/49 [==============================] - 1s 18ms/step - loss: 0.0542 - accuracy: 0.9320\n",
      "Epoch 5/20\n",
      "49/49 [==============================] - 1s 15ms/step - loss: 0.0461 - accuracy: 0.9432\n",
      "Epoch 6/20\n",
      "49/49 [==============================] - 1s 16ms/step - loss: 0.0412 - accuracy: 0.9488\n",
      "Epoch 7/20\n",
      "49/49 [==============================] - 1s 16ms/step - loss: 0.0327 - accuracy: 0.9619\n",
      "Epoch 8/20\n",
      "49/49 [==============================] - 1s 15ms/step - loss: 0.0293 - accuracy: 0.9656\n",
      "Epoch 9/20\n",
      "49/49 [==============================] - 1s 16ms/step - loss: 0.0252 - accuracy: 0.9707\n",
      "Epoch 10/20\n",
      "49/49 [==============================] - 1s 16ms/step - loss: 0.0203 - accuracy: 0.9780\n",
      "Epoch 11/20\n",
      "49/49 [==============================] - 1s 16ms/step - loss: 0.0211 - accuracy: 0.9758\n",
      "Epoch 12/20\n",
      "49/49 [==============================] - 1s 15ms/step - loss: 0.0157 - accuracy: 0.9837\n",
      "Epoch 13/20\n",
      "49/49 [==============================] - 1s 14ms/step - loss: 0.0143 - accuracy: 0.9847\n",
      "Epoch 14/20\n",
      "49/49 [==============================] - 1s 18ms/step - loss: 0.0131 - accuracy: 0.9862\n",
      "Epoch 15/20\n",
      "49/49 [==============================] - 1s 18ms/step - loss: 0.0163 - accuracy: 0.9816\n",
      "Epoch 16/20\n",
      "49/49 [==============================] - 1s 23ms/step - loss: 0.0122 - accuracy: 0.9867\n",
      "Epoch 17/20\n",
      "49/49 [==============================] - 1s 21ms/step - loss: 0.0125 - accuracy: 0.9865\n",
      "Epoch 18/20\n",
      "49/49 [==============================] - 1s 19ms/step - loss: 0.0118 - accuracy: 0.9871\n",
      "Epoch 19/20\n",
      "49/49 [==============================] - 1s 18ms/step - loss: 0.0080 - accuracy: 0.9922\n",
      "Epoch 20/20\n",
      "49/49 [==============================] - 1s 17ms/step - loss: 0.0113 - accuracy: 0.9880\n",
      "782/782 [==============================] - 3s 3ms/step - loss: 0.1111 - accuracy: 0.8696\n"
     ]
    }
   ],
   "source": [
    "model = models.Sequential() #mse 손실함수\n",
    "model.add(layers.Dense(32, activation='relu', input_shape=(10000,)))\n",
    "model.add(layers.Dense(32, activation='relu'))\n",
    "model.add(layers.Dense(32, activation='relu'))\n",
    "model.add(layers.Dense(1, activation='sigmoid'))\n",
    "\n",
    "model.compile(optimizer='rmsprop',\n",
    "              loss='mse',\n",
    "              metrics=['accuracy'])\n",
    "\n",
    "model.fit(x_train, y_train, epochs=20, batch_size=512)\n",
    "results = model.evaluate(x_test, y_test)"
   ]
  },
  {
   "cell_type": "code",
   "execution_count": 29,
   "id": "8b0da3c7",
   "metadata": {
    "scrolled": true
   },
   "outputs": [
    {
     "name": "stdout",
     "output_type": "stream",
     "text": [
      "Epoch 1/20\n",
      "49/49 [==============================] - 5s 33ms/step - loss: 0.1647 - accuracy: 0.7493\n",
      "Epoch 2/20\n",
      "49/49 [==============================] - 1s 26ms/step - loss: 0.0888 - accuracy: 0.8813\n",
      "Epoch 3/20\n",
      "49/49 [==============================] - 1s 30ms/step - loss: 0.0691 - accuracy: 0.9109\n",
      "Epoch 4/20\n",
      "49/49 [==============================] - 1s 26ms/step - loss: 0.0563 - accuracy: 0.9271\n",
      "Epoch 5/20\n",
      "49/49 [==============================] - 1s 24ms/step - loss: 0.0490 - accuracy: 0.9376\n",
      "Epoch 6/20\n",
      "49/49 [==============================] - 1s 25ms/step - loss: 0.0414 - accuracy: 0.9478\n",
      "Epoch 7/20\n",
      "49/49 [==============================] - 1s 28ms/step - loss: 0.0348 - accuracy: 0.9579\n",
      "Epoch 8/20\n",
      "49/49 [==============================] - 1s 28ms/step - loss: 0.0296 - accuracy: 0.9641\n",
      "Epoch 9/20\n",
      "49/49 [==============================] - 2s 34ms/step - loss: 0.0213 - accuracy: 0.9758\n",
      "Epoch 10/20\n",
      "49/49 [==============================] - 2s 39ms/step - loss: 0.0199 - accuracy: 0.9775\n",
      "Epoch 11/20\n",
      "49/49 [==============================] - 2s 32ms/step - loss: 0.0149 - accuracy: 0.9837\n",
      "Epoch 12/20\n",
      "49/49 [==============================] - 1s 25ms/step - loss: 0.0146 - accuracy: 0.9839\n",
      "Epoch 13/20\n",
      "49/49 [==============================] - 1s 24ms/step - loss: 0.0136 - accuracy: 0.9848\n",
      "Epoch 14/20\n",
      "49/49 [==============================] - 2s 33ms/step - loss: 0.0132 - accuracy: 0.9855\n",
      "Epoch 15/20\n",
      "49/49 [==============================] - 1s 29ms/step - loss: 0.0077 - accuracy: 0.9923\n",
      "Epoch 16/20\n",
      "49/49 [==============================] - 1s 30ms/step - loss: 0.0120 - accuracy: 0.9870\n",
      "Epoch 17/20\n",
      "49/49 [==============================] - 2s 32ms/step - loss: 0.0115 - accuracy: 0.9874\n",
      "Epoch 18/20\n",
      "49/49 [==============================] - 2s 40ms/step - loss: 0.0108 - accuracy: 0.9880\n",
      "Epoch 19/20\n",
      "49/49 [==============================] - 2s 38ms/step - loss: 0.0111 - accuracy: 0.9874\n",
      "Epoch 20/20\n",
      "49/49 [==============================] - 1s 27ms/step - loss: 0.0059 - accuracy: 0.9941\n",
      "782/782 [==============================] - 3s 3ms/step - loss: 0.1074 - accuracy: 0.8746\n"
     ]
    }
   ],
   "source": [
    "model = models.Sequential() #유닛수 64개 은닉층\n",
    "model.add(layers.Dense(64, activation='relu', input_shape=(10000,)))\n",
    "model.add(layers.Dense(64, activation='relu'))\n",
    "model.add(layers.Dense(64, activation='relu'))\n",
    "model.add(layers.Dense(64, activation='relu'))\n",
    "model.add(layers.Dense(1, activation='sigmoid'))\n",
    "\n",
    "model.compile(optimizer='rmsprop',\n",
    "              loss='mse',\n",
    "              metrics=['accuracy'])\n",
    "\n",
    "model.fit(x_train, y_train, epochs=20, batch_size=512)\n",
    "results = model.evaluate(x_test, y_test)"
   ]
  },
  {
   "cell_type": "code",
   "execution_count": 30,
   "id": "4815aec6",
   "metadata": {},
   "outputs": [
    {
     "name": "stdout",
     "output_type": "stream",
     "text": [
      "Epoch 1/20\n",
      "49/49 [==============================] - 3s 29ms/step - loss: 0.1415 - accuracy: 0.7895\n",
      "Epoch 2/20\n",
      "49/49 [==============================] - 1s 25ms/step - loss: 0.0776 - accuracy: 0.8967\n",
      "Epoch 3/20\n",
      "49/49 [==============================] - 1s 25ms/step - loss: 0.0646 - accuracy: 0.9146\n",
      "Epoch 4/20\n",
      "49/49 [==============================] - 1s 24ms/step - loss: 0.0563 - accuracy: 0.9275\n",
      "Epoch 5/20\n",
      "49/49 [==============================] - 1s 24ms/step - loss: 0.0488 - accuracy: 0.9374\n",
      "Epoch 6/20\n",
      "49/49 [==============================] - 1s 25ms/step - loss: 0.0428 - accuracy: 0.9464\n",
      "Epoch 7/20\n",
      "49/49 [==============================] - 1s 29ms/step - loss: 0.0399 - accuracy: 0.9503\n",
      "Epoch 8/20\n",
      "49/49 [==============================] - 1s 27ms/step - loss: 0.0362 - accuracy: 0.9555\n",
      "Epoch 9/20\n",
      "49/49 [==============================] - 1s 29ms/step - loss: 0.0333 - accuracy: 0.9606\n",
      "Epoch 10/20\n",
      "49/49 [==============================] - 2s 32ms/step - loss: 0.0315 - accuracy: 0.9630\n",
      "Epoch 11/20\n",
      "49/49 [==============================] - 1s 25ms/step - loss: 0.0284 - accuracy: 0.9664\n",
      "Epoch 12/20\n",
      "49/49 [==============================] - 1s 25ms/step - loss: 0.0273 - accuracy: 0.9680\n",
      "Epoch 13/20\n",
      "49/49 [==============================] - 1s 30ms/step - loss: 0.0241 - accuracy: 0.9725\n",
      "Epoch 14/20\n",
      "49/49 [==============================] - 1s 24ms/step - loss: 0.0242 - accuracy: 0.9725\n",
      "Epoch 15/20\n",
      "49/49 [==============================] - 2s 32ms/step - loss: 0.0229 - accuracy: 0.9745\n",
      "Epoch 16/20\n",
      "49/49 [==============================] - 1s 29ms/step - loss: 0.0233 - accuracy: 0.9734\n",
      "Epoch 17/20\n",
      "49/49 [==============================] - 1s 29ms/step - loss: 0.0220 - accuracy: 0.9753\n",
      "Epoch 18/20\n",
      "49/49 [==============================] - 2s 40ms/step - loss: 0.0193 - accuracy: 0.9791\n",
      "Epoch 19/20\n",
      "49/49 [==============================] - 2s 34ms/step - loss: 0.0202 - accuracy: 0.9776\n",
      "Epoch 20/20\n",
      "49/49 [==============================] - 1s 28ms/step - loss: 0.0202 - accuracy: 0.9783\n",
      "782/782 [==============================] - 3s 3ms/step - loss: 0.1236 - accuracy: 0.8628\n"
     ]
    }
   ],
   "source": [
    "model = models.Sequential() #유닛수 64개 은닉층\n",
    "model.add(layers.Dense(64, activation='tanh', input_shape=(10000,)))\n",
    "model.add(layers.Dense(64, activation='tanh'))\n",
    "model.add(layers.Dense(64, activation='tanh'))\n",
    "model.add(layers.Dense(64, activation='tanh'))\n",
    "model.add(layers.Dense(1, activation='sigmoid'))\n",
    "\n",
    "model.compile(optimizer='rmsprop',\n",
    "              loss='mse',\n",
    "              metrics=['accuracy'])\n",
    "\n",
    "model.fit(x_train, y_train, epochs=20, batch_size=512)\n",
    "results = model.evaluate(x_test, y_test)"
   ]
  },
  {
   "cell_type": "code",
   "execution_count": 21,
   "id": "70f1ca3b",
   "metadata": {},
   "outputs": [
    {
     "name": "stdout",
     "output_type": "stream",
     "text": [
      "782/782 [==============================] - 3s 3ms/step\n"
     ]
    },
    {
     "data": {
      "text/plain": [
       "array([[0.09223256],\n",
       "       [0.99848515],\n",
       "       [0.5864036 ],\n",
       "       ...,\n",
       "       [0.06704091],\n",
       "       [0.04799628],\n",
       "       [0.26579636]], dtype=float32)"
      ]
     },
     "execution_count": 21,
     "metadata": {},
     "output_type": "execute_result"
    }
   ],
   "source": [
    "model.predict(x_test)"
   ]
  }
 ],
 "metadata": {
  "kernelspec": {
   "display_name": "Python 3 (ipykernel)",
   "language": "python",
   "name": "python3"
  },
  "language_info": {
   "codemirror_mode": {
    "name": "ipython",
    "version": 3
   },
   "file_extension": ".py",
   "mimetype": "text/x-python",
   "name": "python",
   "nbconvert_exporter": "python",
   "pygments_lexer": "ipython3",
   "version": "3.9.13"
  }
 },
 "nbformat": 4,
 "nbformat_minor": 5
}
