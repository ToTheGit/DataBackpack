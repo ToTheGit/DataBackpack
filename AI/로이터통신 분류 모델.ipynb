{
 "cells": [
  {
   "cell_type": "code",
   "execution_count": 1,
   "id": "ab47087f",
   "metadata": {},
   "outputs": [
    {
     "name": "stdout",
     "output_type": "stream",
     "text": [
      "Downloading data from https://storage.googleapis.com/tensorflow/tf-keras-datasets/reuters.npz\n",
      "2110848/2110848 [==============================] - 1s 1us/step\n"
     ]
    }
   ],
   "source": [
    "from tensorflow.keras.datasets import reuters\n",
    "\n",
    "(train_data, train_labels), (test_data, test_labels) = reuters.load_data(num_words=10000)"
   ]
  },
  {
   "cell_type": "code",
   "execution_count": 9,
   "id": "db67c1d2",
   "metadata": {},
   "outputs": [
    {
     "data": {
      "text/plain": [
       "8982"
      ]
     },
     "execution_count": 9,
     "metadata": {},
     "output_type": "execute_result"
    }
   ],
   "source": [
    "len(train_data)"
   ]
  },
  {
   "cell_type": "code",
   "execution_count": 10,
   "id": "8fe3e792",
   "metadata": {},
   "outputs": [
    {
     "data": {
      "text/plain": [
       "2246"
      ]
     },
     "execution_count": 10,
     "metadata": {},
     "output_type": "execute_result"
    }
   ],
   "source": [
    "len(test_data)"
   ]
  },
  {
   "cell_type": "code",
   "execution_count": 11,
   "id": "16563b00",
   "metadata": {},
   "outputs": [
    {
     "data": {
      "text/plain": [
       "[1,\n",
       " 245,\n",
       " 273,\n",
       " 207,\n",
       " 156,\n",
       " 53,\n",
       " 74,\n",
       " 160,\n",
       " 26,\n",
       " 14,\n",
       " 46,\n",
       " 296,\n",
       " 26,\n",
       " 39,\n",
       " 74,\n",
       " 2979,\n",
       " 3554,\n",
       " 14,\n",
       " 46,\n",
       " 4689,\n",
       " 4329,\n",
       " 86,\n",
       " 61,\n",
       " 3499,\n",
       " 4795,\n",
       " 14,\n",
       " 61,\n",
       " 451,\n",
       " 4329,\n",
       " 17,\n",
       " 12]"
      ]
     },
     "execution_count": 11,
     "metadata": {},
     "output_type": "execute_result"
    }
   ],
   "source": [
    "train_data[10]"
   ]
  },
  {
   "cell_type": "code",
   "execution_count": 12,
   "id": "8369ebe9",
   "metadata": {},
   "outputs": [
    {
     "name": "stdout",
     "output_type": "stream",
     "text": [
      "Downloading data from https://storage.googleapis.com/tensorflow/tf-keras-datasets/reuters_word_index.json\n",
      "550378/550378 [==============================] - 1s 2us/step\n"
     ]
    }
   ],
   "source": [
    "word_index = reuters.get_word_index()\n",
    "reverse_word_index = dict(\n",
    "[(value, key) for (key, value) in word_index.items()])\n",
    "decoded_newswire = \" \".join(\n",
    "    [reverse_word_index.get(i - 3,\"?\") for i in train_data[0]])"
   ]
  },
  {
   "cell_type": "code",
   "execution_count": 14,
   "id": "8e8cdf28",
   "metadata": {},
   "outputs": [],
   "source": [
    "import numpy as np\n",
    "\n",
    "def vectorize_sequences(sequences, dimension=10000):\n",
    "    results = np.zeros((len(sequences), dimension))\n",
    "    for i, sequence in enumerate(sequences):\n",
    "        results[i, sequence] = 1.\n",
    "    return results\n",
    "\n",
    "x_train = vectorize_sequences(train_data) # 훈련 데이터 벡터 변환\n",
    "x_test = vectorize_sequences(test_data) # 테스트 데이터 벡터 변환"
   ]
  },
  {
   "cell_type": "code",
   "execution_count": 15,
   "id": "4bd85e4d",
   "metadata": {},
   "outputs": [],
   "source": [
    "def to_one_hot(labels, dimension=46):\n",
    "    results = np.zeros((len(labels), dimension))\n",
    "    for i, label in enumerate(labels):\n",
    "        results[i, label] = 1.\n",
    "    return results\n",
    "\n",
    "y_train = to_one_hot(train_labels) # 훈련 레이블 벡터 변환\n",
    "y_test = to_one_hot(test_labels) # 테스트 레이블 벡터 변환"
   ]
  },
  {
   "cell_type": "code",
   "execution_count": 16,
   "id": "a517f568",
   "metadata": {},
   "outputs": [],
   "source": [
    "from keras.utils.np_utils import to_categorical\n",
    "\n",
    "one_hot_train_labels = to_categorical(train_labels)\n",
    "one_hot_test_labels = to_categorical(test_labels)"
   ]
  },
  {
   "cell_type": "code",
   "execution_count": 18,
   "id": "bfb8b8ad",
   "metadata": {},
   "outputs": [],
   "source": [
    "from keras import models\n",
    "from keras import layers\n",
    "\n",
    "model = models.Sequential()\n",
    "model.add(layers.Dense(64, activation='relu', input_shape=(10000,)))\n",
    "model.add(layers.Dense(64, activation='relu'))\n",
    "model.add(layers.Dense(46, activation='softmax'))"
   ]
  },
  {
   "cell_type": "code",
   "execution_count": 19,
   "id": "6a27c1e4",
   "metadata": {},
   "outputs": [],
   "source": [
    "model.compile(optimizer='rmsprop',\n",
    "              loss='categorical_crossentropy',\n",
    "              metrics=['accuracy'])"
   ]
  },
  {
   "cell_type": "code",
   "execution_count": 20,
   "id": "f9d0146f",
   "metadata": {},
   "outputs": [],
   "source": [
    "x_val = x_train[:1000]\n",
    "partial_x_train = x_train[1000:]\n",
    "\n",
    "y_val = one_hot_train_labels[:1000]\n",
    "partial_y_train = one_hot_train_labels[1000:]"
   ]
  },
  {
   "cell_type": "code",
   "execution_count": 21,
   "id": "cf8aa662",
   "metadata": {},
   "outputs": [
    {
     "name": "stdout",
     "output_type": "stream",
     "text": [
      "Epoch 1/20\n",
      "16/16 [==============================] - 4s 76ms/step - loss: 2.6219 - accuracy: 0.5091 - val_loss: 1.7466 - val_accuracy: 0.6350\n",
      "Epoch 2/20\n",
      "16/16 [==============================] - 1s 48ms/step - loss: 1.4896 - accuracy: 0.6833 - val_loss: 1.3493 - val_accuracy: 0.6910\n",
      "Epoch 3/20\n",
      "16/16 [==============================] - 1s 43ms/step - loss: 1.1599 - accuracy: 0.7466 - val_loss: 1.1672 - val_accuracy: 0.7350\n",
      "Epoch 4/20\n",
      "16/16 [==============================] - 1s 44ms/step - loss: 0.9485 - accuracy: 0.7928 - val_loss: 1.0727 - val_accuracy: 0.7630\n",
      "Epoch 5/20\n",
      "16/16 [==============================] - 1s 53ms/step - loss: 0.7834 - accuracy: 0.8249 - val_loss: 0.9969 - val_accuracy: 0.7740\n",
      "Epoch 6/20\n",
      "16/16 [==============================] - 1s 40ms/step - loss: 0.6567 - accuracy: 0.8562 - val_loss: 0.9244 - val_accuracy: 0.7980\n",
      "Epoch 7/20\n",
      "16/16 [==============================] - 1s 45ms/step - loss: 0.5465 - accuracy: 0.8840 - val_loss: 0.8957 - val_accuracy: 0.8100\n",
      "Epoch 8/20\n",
      "16/16 [==============================] - 1s 54ms/step - loss: 0.4628 - accuracy: 0.9010 - val_loss: 0.8650 - val_accuracy: 0.8120\n",
      "Epoch 9/20\n",
      "16/16 [==============================] - 1s 48ms/step - loss: 0.3854 - accuracy: 0.9184 - val_loss: 0.8593 - val_accuracy: 0.8130\n",
      "Epoch 10/20\n",
      "16/16 [==============================] - 1s 45ms/step - loss: 0.3366 - accuracy: 0.9302 - val_loss: 0.8632 - val_accuracy: 0.8120\n",
      "Epoch 11/20\n",
      "16/16 [==============================] - 1s 43ms/step - loss: 0.2898 - accuracy: 0.9375 - val_loss: 0.8713 - val_accuracy: 0.8080\n",
      "Epoch 12/20\n",
      "16/16 [==============================] - 1s 41ms/step - loss: 0.2488 - accuracy: 0.9436 - val_loss: 0.8520 - val_accuracy: 0.8200\n",
      "Epoch 13/20\n",
      "16/16 [==============================] - 1s 46ms/step - loss: 0.2264 - accuracy: 0.9464 - val_loss: 0.8713 - val_accuracy: 0.8180\n",
      "Epoch 14/20\n",
      "16/16 [==============================] - 1s 41ms/step - loss: 0.1967 - accuracy: 0.9536 - val_loss: 0.8571 - val_accuracy: 0.8160\n",
      "Epoch 15/20\n",
      "16/16 [==============================] - 1s 41ms/step - loss: 0.1819 - accuracy: 0.9530 - val_loss: 0.8668 - val_accuracy: 0.8100\n",
      "Epoch 16/20\n",
      "16/16 [==============================] - 1s 55ms/step - loss: 0.1660 - accuracy: 0.9540 - val_loss: 0.8620 - val_accuracy: 0.8130\n",
      "Epoch 17/20\n",
      "16/16 [==============================] - 1s 53ms/step - loss: 0.1551 - accuracy: 0.9562 - val_loss: 0.8722 - val_accuracy: 0.8140\n",
      "Epoch 18/20\n",
      "16/16 [==============================] - 1s 47ms/step - loss: 0.1436 - accuracy: 0.9578 - val_loss: 0.8719 - val_accuracy: 0.8090\n",
      "Epoch 19/20\n",
      "16/16 [==============================] - 1s 44ms/step - loss: 0.1410 - accuracy: 0.9577 - val_loss: 0.8934 - val_accuracy: 0.8110\n",
      "Epoch 20/20\n",
      "16/16 [==============================] - 1s 44ms/step - loss: 0.1344 - accuracy: 0.9560 - val_loss: 0.9046 - val_accuracy: 0.8180\n"
     ]
    }
   ],
   "source": [
    "history = model.fit(partial_x_train,\n",
    "                    partial_y_train,\n",
    "                    epochs=20,\n",
    "                    batch_size=512,\n",
    "                    validation_data=(x_val, y_val))"
   ]
  },
  {
   "cell_type": "code",
   "execution_count": 22,
   "id": "26002708",
   "metadata": {},
   "outputs": [
    {
     "data": {
      "image/png": "[encoded data removed]",
      "text/plain": [
       "<Figure size 640x480 with 1 Axes>"
      ]
     },
     "metadata": {},
     "output_type": "display_data"
    }
   ],
   "source": [
    "import matplotlib.pyplot as plt\n",
    "\n",
    "loss = history.history['loss']\n",
    "val_loss = history.history['val_loss']\n",
    "\n",
    "epochs = range(1, len(loss) + 1)\n",
    "\n",
    "plt.plot(epochs, loss, 'bo', label='Training loss')\n",
    "plt.plot(epochs, val_loss, 'b', label='Validation loss')\n",
    "plt.title('Training and validation loss')\n",
    "plt.xlabel('Epochs')\n",
    "plt.ylabel('Loss')\n",
    "plt.legend()\n",
    "\n",
    "plt.show()\n"
   ]
  },
  {
   "cell_type": "code",
   "execution_count": 26,
   "id": "380f233b",
   "metadata": {},
   "outputs": [
    {
     "data": {
      "image/png": "[encoded data removed]",
      "text/plain": [
       "<Figure size 640x480 with 1 Axes>"
      ]
     },
     "metadata": {},
     "output_type": "display_data"
    }
   ],
   "source": [
    "plt.clf() #그래프를 초기화합니다.\n",
    "\n",
    "acc = history.history['accuracy']\n",
    "val_acc = history.history['val_accuracy']\n",
    "\n",
    "plt.plot(epochs, acc, 'bo', label='Training accuracy')\n",
    "plt.plot(epochs, val_acc, 'b', label='Validation accuracy')\n",
    "plt.title('Training and validation accuracy')\n",
    "plt.xlabel('Epochs')\n",
    "plt.ylabel('Accuracy')\n",
    "plt.legend()\n",
    "\n",
    "plt.show()"
   ]
  },
  {
   "cell_type": "code",
   "execution_count": 27,
   "id": "a6082279",
   "metadata": {
    "scrolled": true
   },
   "outputs": [
    {
     "name": "stdout",
     "output_type": "stream",
     "text": [
      "Epoch 1/9\n",
      "16/16 [==============================] - 4s 100ms/step - loss: 2.7493 - accuracy: 0.4922 - val_loss: 1.8450 - val_accuracy: 0.6260\n",
      "Epoch 2/9\n",
      "16/16 [==============================] - 1s 50ms/step - loss: 1.5418 - accuracy: 0.6783 - val_loss: 1.3861 - val_accuracy: 0.6900\n",
      "Epoch 3/9\n",
      "16/16 [==============================] - 1s 45ms/step - loss: 1.1842 - accuracy: 0.7407 - val_loss: 1.1862 - val_accuracy: 0.7380\n",
      "Epoch 4/9\n",
      "16/16 [==============================] - 1s 52ms/step - loss: 0.9732 - accuracy: 0.7914 - val_loss: 1.0761 - val_accuracy: 0.7630\n",
      "Epoch 5/9\n",
      "16/16 [==============================] - 1s 44ms/step - loss: 0.8129 - accuracy: 0.8251 - val_loss: 1.0145 - val_accuracy: 0.7740\n",
      "Epoch 6/9\n",
      "16/16 [==============================] - 1s 41ms/step - loss: 0.6759 - accuracy: 0.8545 - val_loss: 0.9685 - val_accuracy: 0.7760\n",
      "Epoch 7/9\n",
      "16/16 [==============================] - 1s 49ms/step - loss: 0.5694 - accuracy: 0.8767 - val_loss: 0.9083 - val_accuracy: 0.8050\n",
      "Epoch 8/9\n",
      "16/16 [==============================] - 1s 50ms/step - loss: 0.4753 - accuracy: 0.9010 - val_loss: 0.8919 - val_accuracy: 0.8050\n",
      "Epoch 9/9\n",
      "16/16 [==============================] - 1s 41ms/step - loss: 0.4016 - accuracy: 0.9166 - val_loss: 0.8632 - val_accuracy: 0.8180\n",
      "71/71 [==============================] - 1s 8ms/step - loss: 0.9599 - accuracy: 0.7858\n"
     ]
    }
   ],
   "source": [
    "model = models.Sequential()\n",
    "model.add(layers.Dense(64, activation='relu', input_shape=(10000,)))\n",
    "model.add(layers.Dense(64, activation='relu'))\n",
    "model.add(layers.Dense(46, activation='softmax'))\n",
    "\n",
    "model.compile(optimizer='rmsprop',\n",
    "              loss='categorical_crossentropy',\n",
    "              metrics=['accuracy'])\n",
    "model.fit(partial_x_train,\n",
    "          partial_y_train,\n",
    "          epochs=9,\n",
    "          batch_size=512,\n",
    "          validation_data=(x_val, y_val))\n",
    "results = model.evaluate(x_test, y_test)"
   ]
  },
  {
   "cell_type": "code",
   "execution_count": 29,
   "id": "fa48cf8e",
   "metadata": {},
   "outputs": [
    {
     "data": {
      "text/plain": [
       "[0.959861159324646, 0.7858415246009827]"
      ]
     },
     "execution_count": 29,
     "metadata": {},
     "output_type": "execute_result"
    }
   ],
   "source": [
    "results"
   ]
  },
  {
   "cell_type": "code",
   "execution_count": 33,
   "id": "387bb873",
   "metadata": {},
   "outputs": [
    {
     "data": {
      "text/plain": [
       "0.1803205699020481"
      ]
     },
     "execution_count": 33,
     "metadata": {},
     "output_type": "execute_result"
    }
   ],
   "source": [
    "import copy\n",
    "test_labels_copy = copy.copy(test_labels)\n",
    "np.random.shuffle(test_labels_copy)\n",
    "hits_array = np.array(test_labels) == np.array(test_labels_copy)\n",
    "float(np.sum(hits_array)) / len(test_labels)"
   ]
  },
  {
   "cell_type": "code",
   "execution_count": 34,
   "id": "b91e8bf9",
   "metadata": {},
   "outputs": [
    {
     "name": "stdout",
     "output_type": "stream",
     "text": [
      "71/71 [==============================] - 0s 6ms/step\n"
     ]
    }
   ],
   "source": [
    "predictions = model.predict(x_test)"
   ]
  },
  {
   "cell_type": "code",
   "execution_count": 35,
   "id": "f60c9a4a",
   "metadata": {},
   "outputs": [
    {
     "data": {
      "text/plain": [
       "(46,)"
      ]
     },
     "execution_count": 35,
     "metadata": {},
     "output_type": "execute_result"
    }
   ],
   "source": [
    "predictions[0].shape"
   ]
  },
  {
   "cell_type": "code",
   "execution_count": 36,
   "id": "0a638148",
   "metadata": {},
   "outputs": [
    {
     "data": {
      "text/plain": [
       "0.99999994"
      ]
     },
     "execution_count": 36,
     "metadata": {},
     "output_type": "execute_result"
    }
   ],
   "source": [
    "np.sum(predictions[0])"
   ]
  },
  {
   "cell_type": "code",
   "execution_count": 37,
   "id": "731181a9",
   "metadata": {},
   "outputs": [
    {
     "data": {
      "text/plain": [
       "3"
      ]
     },
     "execution_count": 37,
     "metadata": {},
     "output_type": "execute_result"
    }
   ],
   "source": [
    "np.argmax(predictions[0])"
   ]
  },
  {
   "cell_type": "code",
   "execution_count": 38,
   "id": "da254888",
   "metadata": {},
   "outputs": [],
   "source": [
    "y_train = np.array(train_labels)\n",
    "y_test = np.array(test_labels)"
   ]
  },
  {
   "cell_type": "code",
   "execution_count": 39,
   "id": "f72c4736",
   "metadata": {},
   "outputs": [],
   "source": [
    "model.compile(optimizer='rmsprop',\n",
    "              loss='sparse_categorical_crossentropy',\n",
    "              metrics=['accuracy'])"
   ]
  },
  {
   "cell_type": "code",
   "execution_count": 40,
   "id": "22009b07",
   "metadata": {},
   "outputs": [
    {
     "name": "stdout",
     "output_type": "stream",
     "text": [
      "Epoch 1/20\n",
      "63/63 [==============================] - 4s 33ms/step - loss: 3.1819 - accuracy: 0.2831 - val_loss: 2.4600 - val_accuracy: 0.5050\n",
      "Epoch 2/20\n",
      "63/63 [==============================] - 1s 22ms/step - loss: 1.9766 - accuracy: 0.5428 - val_loss: 1.7419 - val_accuracy: 0.5720\n",
      "Epoch 3/20\n",
      "63/63 [==============================] - 1s 21ms/step - loss: 1.5441 - accuracy: 0.5958 - val_loss: 1.5570 - val_accuracy: 0.6230\n",
      "Epoch 4/20\n",
      "63/63 [==============================] - 1s 21ms/step - loss: 1.3708 - accuracy: 0.6482 - val_loss: 1.4914 - val_accuracy: 0.6330\n",
      "Epoch 5/20\n",
      "63/63 [==============================] - 1s 22ms/step - loss: 1.2548 - accuracy: 0.6683 - val_loss: 1.4300 - val_accuracy: 0.6380\n",
      "Epoch 6/20\n",
      "63/63 [==============================] - 1s 21ms/step - loss: 1.1656 - accuracy: 0.6825 - val_loss: 1.4158 - val_accuracy: 0.6650\n",
      "Epoch 7/20\n",
      "63/63 [==============================] - 1s 23ms/step - loss: 1.0929 - accuracy: 0.7181 - val_loss: 1.3922 - val_accuracy: 0.6770\n",
      "Epoch 8/20\n",
      "63/63 [==============================] - 1s 22ms/step - loss: 1.0317 - accuracy: 0.7264 - val_loss: 1.4006 - val_accuracy: 0.6740\n",
      "Epoch 9/20\n",
      "63/63 [==============================] - 1s 23ms/step - loss: 0.9805 - accuracy: 0.7325 - val_loss: 1.3939 - val_accuracy: 0.6840\n",
      "Epoch 10/20\n",
      "63/63 [==============================] - 1s 22ms/step - loss: 0.9401 - accuracy: 0.7387 - val_loss: 1.4228 - val_accuracy: 0.6790\n",
      "Epoch 11/20\n",
      "63/63 [==============================] - 2s 25ms/step - loss: 0.9041 - accuracy: 0.7469 - val_loss: 1.4440 - val_accuracy: 0.6800\n",
      "Epoch 12/20\n",
      "63/63 [==============================] - 1s 23ms/step - loss: 0.8749 - accuracy: 0.7563 - val_loss: 1.4906 - val_accuracy: 0.6740\n",
      "Epoch 13/20\n",
      "63/63 [==============================] - 1s 23ms/step - loss: 0.8485 - accuracy: 0.7622 - val_loss: 1.5122 - val_accuracy: 0.6790\n",
      "Epoch 14/20\n",
      "63/63 [==============================] - 1s 23ms/step - loss: 0.8223 - accuracy: 0.7662 - val_loss: 1.6042 - val_accuracy: 0.6750\n",
      "Epoch 15/20\n",
      "63/63 [==============================] - 2s 28ms/step - loss: 0.8032 - accuracy: 0.7736 - val_loss: 1.5861 - val_accuracy: 0.6780\n",
      "Epoch 16/20\n",
      "63/63 [==============================] - 1s 23ms/step - loss: 0.7820 - accuracy: 0.7757 - val_loss: 1.5806 - val_accuracy: 0.6820\n",
      "Epoch 17/20\n",
      "63/63 [==============================] - 1s 22ms/step - loss: 0.7684 - accuracy: 0.7761 - val_loss: 1.6840 - val_accuracy: 0.6740\n",
      "Epoch 18/20\n",
      "63/63 [==============================] - 1s 22ms/step - loss: 0.7499 - accuracy: 0.7785 - val_loss: 1.7376 - val_accuracy: 0.6670\n",
      "Epoch 19/20\n",
      "63/63 [==============================] - 1s 21ms/step - loss: 0.7364 - accuracy: 0.7805 - val_loss: 1.7262 - val_accuracy: 0.6750\n",
      "Epoch 20/20\n",
      "63/63 [==============================] - 1s 22ms/step - loss: 0.7216 - accuracy: 0.7823 - val_loss: 1.7480 - val_accuracy: 0.6790\n"
     ]
    },
    {
     "data": {
      "text/plain": [
       "<keras.callbacks.History at 0x1e6b66923a0>"
      ]
     },
     "execution_count": 40,
     "metadata": {},
     "output_type": "execute_result"
    }
   ],
   "source": [
    "model = models.Sequential()\n",
    "model.add(layers.Dense(64, activation='relu', input_shape=(10000,)))\n",
    "model.add(layers.Dense(4, activation='relu'))\n",
    "model.add(layers.Dense(46, activation='softmax'))\n",
    "\n",
    "model.compile(optimizer='rmsprop',\n",
    "              loss='categorical_crossentropy',\n",
    "              metrics=['accuracy'])\n",
    "model.fit(partial_x_train,\n",
    "          partial_y_train,\n",
    "          epochs=20,\n",
    "          batch_size=128,\n",
    "          validation_data=(x_val, y_val))"
   ]
  },
  {
   "cell_type": "code",
   "execution_count": 41,
   "id": "3fac4eb5",
   "metadata": {},
   "outputs": [
    {
     "name": "stdout",
     "output_type": "stream",
     "text": [
      "Epoch 1/20\n",
      "250/250 [==============================] - 6s 19ms/step - loss: 1.4545 - accuracy: 0.6904 - val_loss: 1.0347 - val_accuracy: 0.7730\n",
      "Epoch 2/20\n",
      "250/250 [==============================] - 5s 19ms/step - loss: 0.7403 - accuracy: 0.8385 - val_loss: 0.8462 - val_accuracy: 0.8210\n",
      "Epoch 3/20\n",
      "250/250 [==============================] - 4s 15ms/step - loss: 0.4643 - accuracy: 0.8976 - val_loss: 0.8435 - val_accuracy: 0.8260\n",
      "Epoch 4/20\n",
      "250/250 [==============================] - 4s 16ms/step - loss: 0.3221 - accuracy: 0.9285 - val_loss: 0.8937 - val_accuracy: 0.8090\n",
      "Epoch 5/20\n",
      "250/250 [==============================] - 4s 15ms/step - loss: 0.2495 - accuracy: 0.9425 - val_loss: 0.8769 - val_accuracy: 0.8230\n",
      "Epoch 6/20\n",
      "250/250 [==============================] - 4s 16ms/step - loss: 0.2095 - accuracy: 0.9493 - val_loss: 0.9345 - val_accuracy: 0.8200\n",
      "Epoch 7/20\n",
      "250/250 [==============================] - 4s 16ms/step - loss: 0.1859 - accuracy: 0.9524 - val_loss: 0.9913 - val_accuracy: 0.8110\n",
      "Epoch 8/20\n",
      "250/250 [==============================] - 4s 17ms/step - loss: 0.1717 - accuracy: 0.9531 - val_loss: 1.0871 - val_accuracy: 0.8070\n",
      "Epoch 9/20\n",
      "250/250 [==============================] - 4s 17ms/step - loss: 0.1590 - accuracy: 0.9550 - val_loss: 1.0337 - val_accuracy: 0.8100\n",
      "Epoch 10/20\n",
      "250/250 [==============================] - 4s 18ms/step - loss: 0.1528 - accuracy: 0.9549 - val_loss: 1.1299 - val_accuracy: 0.8110\n",
      "Epoch 11/20\n",
      "250/250 [==============================] - 4s 18ms/step - loss: 0.1439 - accuracy: 0.9558 - val_loss: 1.2365 - val_accuracy: 0.7970\n",
      "Epoch 12/20\n",
      "250/250 [==============================] - 5s 18ms/step - loss: 0.1400 - accuracy: 0.9582 - val_loss: 1.1829 - val_accuracy: 0.8040\n",
      "Epoch 13/20\n",
      "250/250 [==============================] - 4s 17ms/step - loss: 0.1324 - accuracy: 0.9579 - val_loss: 1.2334 - val_accuracy: 0.7940\n",
      "Epoch 14/20\n",
      "250/250 [==============================] - 5s 19ms/step - loss: 0.1327 - accuracy: 0.9568 - val_loss: 1.2264 - val_accuracy: 0.8110\n",
      "Epoch 15/20\n",
      "250/250 [==============================] - 4s 16ms/step - loss: 0.1246 - accuracy: 0.9578 - val_loss: 1.3768 - val_accuracy: 0.8000\n",
      "Epoch 16/20\n",
      "250/250 [==============================] - 4s 17ms/step - loss: 0.1251 - accuracy: 0.9567 - val_loss: 1.3466 - val_accuracy: 0.8030\n",
      "Epoch 17/20\n",
      "250/250 [==============================] - 4s 16ms/step - loss: 0.1195 - accuracy: 0.9579 - val_loss: 1.3668 - val_accuracy: 0.8050\n",
      "Epoch 18/20\n",
      "250/250 [==============================] - 4s 18ms/step - loss: 0.1166 - accuracy: 0.9582 - val_loss: 1.3691 - val_accuracy: 0.7950\n",
      "Epoch 19/20\n",
      "250/250 [==============================] - 5s 19ms/step - loss: 0.1095 - accuracy: 0.9600 - val_loss: 1.4426 - val_accuracy: 0.7940\n",
      "Epoch 20/20\n",
      "250/250 [==============================] - 4s 17ms/step - loss: 0.1119 - accuracy: 0.9588 - val_loss: 1.5192 - val_accuracy: 0.7970\n"
     ]
    },
    {
     "data": {
      "text/plain": [
       "<keras.callbacks.History at 0x1e6b633fd00>"
      ]
     },
     "execution_count": 41,
     "metadata": {},
     "output_type": "execute_result"
    }
   ],
   "source": [
    "model = models.Sequential() #중간층 1개 batchsize 32\n",
    "model.add(layers.Dense(64, activation='relu', input_shape=(10000,)))\n",
    "model.add(layers.Dense(64, activation='relu'))\n",
    "model.add(layers.Dense(46, activation='softmax'))\n",
    "\n",
    "model.compile(optimizer='rmsprop',\n",
    "              loss='categorical_crossentropy',\n",
    "              metrics=['accuracy'])\n",
    "model.fit(partial_x_train,\n",
    "          partial_y_train,\n",
    "          epochs=20,\n",
    "          batch_size=32,\n",
    "          validation_data=(x_val, y_val))"
   ]
  },
  {
   "cell_type": "code",
   "execution_count": 42,
   "id": "5761dc98",
   "metadata": {
    "scrolled": true
   },
   "outputs": [
    {
     "name": "stdout",
     "output_type": "stream",
     "text": [
      "Epoch 1/20\n",
      "63/63 [==============================] - 5s 37ms/step - loss: 1.8842 - accuracy: 0.5821 - val_loss: 1.3071 - val_accuracy: 0.7000\n",
      "Epoch 2/20\n",
      "63/63 [==============================] - 2s 29ms/step - loss: 1.0889 - accuracy: 0.7453 - val_loss: 1.0995 - val_accuracy: 0.7490\n",
      "Epoch 3/20\n",
      "63/63 [==============================] - 2s 25ms/step - loss: 0.7644 - accuracy: 0.8276 - val_loss: 1.0696 - val_accuracy: 0.7790\n",
      "Epoch 4/20\n",
      "63/63 [==============================] - 1s 24ms/step - loss: 0.5475 - accuracy: 0.8712 - val_loss: 1.0587 - val_accuracy: 0.7780\n",
      "Epoch 5/20\n",
      "63/63 [==============================] - 2s 30ms/step - loss: 0.3958 - accuracy: 0.9121 - val_loss: 1.0230 - val_accuracy: 0.7980\n",
      "Epoch 6/20\n",
      "63/63 [==============================] - 2s 26ms/step - loss: 0.3022 - accuracy: 0.9293 - val_loss: 1.0603 - val_accuracy: 0.7890\n",
      "Epoch 7/20\n",
      "63/63 [==============================] - 2s 25ms/step - loss: 0.2468 - accuracy: 0.9431 - val_loss: 1.2336 - val_accuracy: 0.7810\n",
      "Epoch 8/20\n",
      "63/63 [==============================] - 1s 22ms/step - loss: 0.2152 - accuracy: 0.9485 - val_loss: 1.1338 - val_accuracy: 0.7990\n",
      "Epoch 9/20\n",
      "63/63 [==============================] - 1s 22ms/step - loss: 0.1956 - accuracy: 0.9501 - val_loss: 1.0756 - val_accuracy: 0.7970\n",
      "Epoch 10/20\n",
      "63/63 [==============================] - 1s 22ms/step - loss: 0.1716 - accuracy: 0.9539 - val_loss: 1.3049 - val_accuracy: 0.7900\n",
      "Epoch 11/20\n",
      "63/63 [==============================] - 2s 24ms/step - loss: 0.1642 - accuracy: 0.9520 - val_loss: 1.2397 - val_accuracy: 0.7810\n",
      "Epoch 12/20\n",
      "63/63 [==============================] - 1s 22ms/step - loss: 0.1513 - accuracy: 0.9540 - val_loss: 1.1448 - val_accuracy: 0.7980\n",
      "Epoch 13/20\n",
      "63/63 [==============================] - 2s 29ms/step - loss: 0.1465 - accuracy: 0.9543 - val_loss: 1.1940 - val_accuracy: 0.7760\n",
      "Epoch 14/20\n",
      "63/63 [==============================] - 2s 26ms/step - loss: 0.1360 - accuracy: 0.9558 - val_loss: 1.2060 - val_accuracy: 0.7890\n",
      "Epoch 15/20\n",
      "63/63 [==============================] - 2s 24ms/step - loss: 0.1305 - accuracy: 0.9587 - val_loss: 1.1978 - val_accuracy: 0.7840\n",
      "Epoch 16/20\n",
      "63/63 [==============================] - 2s 25ms/step - loss: 0.1269 - accuracy: 0.9574 - val_loss: 1.1652 - val_accuracy: 0.7930\n",
      "Epoch 17/20\n",
      "63/63 [==============================] - 2s 25ms/step - loss: 0.1163 - accuracy: 0.9575 - val_loss: 1.2742 - val_accuracy: 0.7790\n",
      "Epoch 18/20\n",
      "63/63 [==============================] - 1s 23ms/step - loss: 0.1169 - accuracy: 0.9582 - val_loss: 1.1650 - val_accuracy: 0.7850\n",
      "Epoch 19/20\n",
      "63/63 [==============================] - 1s 22ms/step - loss: 0.1142 - accuracy: 0.9572 - val_loss: 1.1976 - val_accuracy: 0.7860\n",
      "Epoch 20/20\n",
      "63/63 [==============================] - 1s 22ms/step - loss: 0.1128 - accuracy: 0.9567 - val_loss: 1.2066 - val_accuracy: 0.7970\n"
     ]
    },
    {
     "data": {
      "text/plain": [
       "<keras.callbacks.History at 0x1e6b66ed5e0>"
      ]
     },
     "execution_count": 42,
     "metadata": {},
     "output_type": "execute_result"
    }
   ],
   "source": [
    "model = models.Sequential() #중간층 3개 batchsize 128\n",
    "model.add(layers.Dense(64, activation='relu', input_shape=(10000,)))\n",
    "model.add(layers.Dense(64, activation='relu'))\n",
    "model.add(layers.Dense(64, activation='relu'))\n",
    "model.add(layers.Dense(64, activation='relu'))\n",
    "\n",
    "model.add(layers.Dense(46, activation='softmax'))\n",
    "\n",
    "model.compile(optimizer='rmsprop',\n",
    "              loss='categorical_crossentropy',\n",
    "              metrics=['accuracy'])\n",
    "model.fit(partial_x_train,\n",
    "          partial_y_train,\n",
    "          epochs=20,\n",
    "          batch_size=128,\n",
    "          validation_data=(x_val, y_val))"
   ]
  },
  {
   "cell_type": "code",
   "execution_count": 43,
   "id": "7ae79e8b",
   "metadata": {
    "scrolled": true
   },
   "outputs": [
    {
     "name": "stdout",
     "output_type": "stream",
     "text": [
      "Epoch 1/20\n",
      "250/250 [==============================] - 7s 21ms/step - loss: 1.5655 - accuracy: 0.6490 - val_loss: 1.1774 - val_accuracy: 0.7270\n",
      "Epoch 2/20\n",
      "250/250 [==============================] - 4s 18ms/step - loss: 0.9022 - accuracy: 0.7969 - val_loss: 1.0061 - val_accuracy: 0.7830\n",
      "Epoch 3/20\n",
      "250/250 [==============================] - 4s 18ms/step - loss: 0.6052 - accuracy: 0.8606 - val_loss: 0.9710 - val_accuracy: 0.7930\n",
      "Epoch 4/20\n",
      "250/250 [==============================] - 5s 18ms/step - loss: 0.4199 - accuracy: 0.9027 - val_loss: 1.0312 - val_accuracy: 0.8120\n",
      "Epoch 5/20\n",
      "250/250 [==============================] - 5s 20ms/step - loss: 0.3157 - accuracy: 0.9272 - val_loss: 1.1542 - val_accuracy: 0.8020\n",
      "Epoch 6/20\n",
      "250/250 [==============================] - 5s 19ms/step - loss: 0.2588 - accuracy: 0.9421 - val_loss: 1.2237 - val_accuracy: 0.7950\n",
      "Epoch 7/20\n",
      "250/250 [==============================] - 5s 18ms/step - loss: 0.2189 - accuracy: 0.9483 - val_loss: 1.2559 - val_accuracy: 0.7920\n",
      "Epoch 8/20\n",
      "250/250 [==============================] - 4s 18ms/step - loss: 0.1892 - accuracy: 0.9505 - val_loss: 1.3022 - val_accuracy: 0.7870\n",
      "Epoch 9/20\n",
      "250/250 [==============================] - 4s 16ms/step - loss: 0.1753 - accuracy: 0.9534 - val_loss: 1.3743 - val_accuracy: 0.8010\n",
      "Epoch 10/20\n",
      "250/250 [==============================] - 4s 16ms/step - loss: 0.1601 - accuracy: 0.9546 - val_loss: 1.4313 - val_accuracy: 0.7930\n",
      "Epoch 11/20\n",
      "250/250 [==============================] - 4s 17ms/step - loss: 0.1521 - accuracy: 0.9548 - val_loss: 1.5688 - val_accuracy: 0.7990\n",
      "Epoch 12/20\n",
      "250/250 [==============================] - 4s 17ms/step - loss: 0.1441 - accuracy: 0.9567 - val_loss: 1.6274 - val_accuracy: 0.7950\n",
      "Epoch 13/20\n",
      "250/250 [==============================] - 4s 16ms/step - loss: 0.1342 - accuracy: 0.9554 - val_loss: 1.4729 - val_accuracy: 0.8000\n",
      "Epoch 14/20\n",
      "250/250 [==============================] - 4s 18ms/step - loss: 0.1310 - accuracy: 0.9560 - val_loss: 1.5703 - val_accuracy: 0.7870\n",
      "Epoch 15/20\n",
      "250/250 [==============================] - 4s 16ms/step - loss: 0.1223 - accuracy: 0.9595 - val_loss: 1.8286 - val_accuracy: 0.7840\n",
      "Epoch 16/20\n",
      "250/250 [==============================] - 4s 16ms/step - loss: 0.1231 - accuracy: 0.9562 - val_loss: 1.6711 - val_accuracy: 0.7860\n",
      "Epoch 17/20\n",
      "250/250 [==============================] - 4s 17ms/step - loss: 0.1136 - accuracy: 0.9575 - val_loss: 1.8952 - val_accuracy: 0.7830\n",
      "Epoch 18/20\n",
      "250/250 [==============================] - 4s 16ms/step - loss: 0.1176 - accuracy: 0.9559 - val_loss: 1.9939 - val_accuracy: 0.7850\n",
      "Epoch 19/20\n",
      "250/250 [==============================] - 4s 16ms/step - loss: 0.1124 - accuracy: 0.9583 - val_loss: 1.8672 - val_accuracy: 0.7930\n",
      "Epoch 20/20\n",
      "250/250 [==============================] - 5s 20ms/step - loss: 0.1082 - accuracy: 0.9584 - val_loss: 1.8451 - val_accuracy: 0.7830\n"
     ]
    },
    {
     "data": {
      "text/plain": [
       "<keras.callbacks.History at 0x1e6b66cbb80>"
      ]
     },
     "execution_count": 43,
     "metadata": {},
     "output_type": "execute_result"
    }
   ],
   "source": [
    "model = models.Sequential() #중간층 3개 batchsize 32\n",
    "model.add(layers.Dense(64, activation='relu', input_shape=(10000,)))\n",
    "model.add(layers.Dense(64, activation='relu'))\n",
    "model.add(layers.Dense(64, activation='relu'))\n",
    "model.add(layers.Dense(64, activation='relu'))\n",
    "\n",
    "model.add(layers.Dense(46, activation='softmax'))\n",
    "\n",
    "model.compile(optimizer='rmsprop',\n",
    "              loss='categorical_crossentropy',\n",
    "              metrics=['accuracy'])\n",
    "model.fit(partial_x_train,\n",
    "          partial_y_train,\n",
    "          epochs=20,\n",
    "          batch_size=32,\n",
    "          validation_data=(x_val, y_val))"
   ]
  },
  {
   "cell_type": "code",
   "execution_count": 44,
   "id": "3b14a89b",
   "metadata": {},
   "outputs": [
    {
     "data": {
      "image/png": "[encoded data removed]",
      "text/plain": [
       "<Figure size 640x480 with 1 Axes>"
      ]
     },
     "metadata": {},
     "output_type": "display_data"
    }
   ],
   "source": [
    "plt.clf() #그래프를 초기화합니다.\n",
    "\n",
    "acc = history.history['accuracy']\n",
    "val_acc = history.history['val_accuracy']\n",
    "\n",
    "plt.plot(epochs, acc, 'bo', label='Training accuracy')\n",
    "plt.plot(epochs, val_acc, 'b', label='Validation accuracy')\n",
    "plt.title('Training and validation accuracy')\n",
    "plt.xlabel('Epochs')\n",
    "plt.ylabel('Accuracy')\n",
    "plt.legend()\n",
    "\n",
    "plt.show()"
   ]
  }
 ],
 "metadata": {
  "kernelspec": {
   "display_name": "Python 3 (ipykernel)",
   "language": "python",
   "name": "python3"
  },
  "language_info": {
   "codemirror_mode": {
    "name": "ipython",
    "version": 3
   },
   "file_extension": ".py",
   "mimetype": "text/x-python",
   "name": "python",
   "nbconvert_exporter": "python",
   "pygments_lexer": "ipython3",
   "version": "3.9.13"
  }
 },
 "nbformat": 4,
 "nbformat_minor": 5
}
