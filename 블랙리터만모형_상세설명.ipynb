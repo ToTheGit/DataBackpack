{
 "cells": [
  {
   "cell_type": "code",
   "execution_count": 1,
   "id": "9d5ae0ab",
   "metadata": {},
   "outputs": [],
   "source": [
    "# Black Litterman  model  : step by step \n",
    "\n",
    "import pandas as pd\n",
    "import numpy as np\n",
    "import seaborn as sns\n",
    "import matplotlib.pyplot as plt\n",
    "from matplotlib import font_manager, rc\n",
    "import os\n",
    "from dateutil.relativedelta import relativedelta\n",
    "\n",
    "plt.style.use('seaborn')\n",
    "\n",
    "FONT_NAME = font_manager.FontProperties(fname=\"c:/Windows/Fonts/malgun.ttf\").get_name()\n",
    "rc('font', family=FONT_NAME)\n",
    "\n",
    "\n",
    "folder_dir = 'C:/Users/nws71/OneDrive/바탕 화면/1-2/심화프로그래밍(파이썬)/과제'\n",
    "DATA_FILE = \"KRX300_수정주가_실습 1.xlsx\"\n",
    "\n",
    "data_wb = pd.ExcelFile(folder_dir + \"/\" + DATA_FILE)\n",
    "\n",
    "adj_price = data_wb.parse(\"Sheet3\",  index_col=0)\n",
    "\n"
   ]
  },
  {
   "cell_type": "code",
   "execution_count": 13,
   "id": "3b7f83bd",
   "metadata": {},
   "outputs": [
    {
     "name": "stdout",
     "output_type": "stream",
     "text": [
      "                LG전자       현대차     NAVER      삼성물산     SK텔레콤      KT&G\n",
      "2015-01-31       NaN       NaN       NaN       NaN       NaN       NaN\n",
      "2015-02-28  0.016447 -0.053097 -0.076812  0.191176 -0.008644 -0.002494\n",
      "2015-03-31 -0.046926  0.049844  0.015130 -0.077160 -0.048875  0.108750\n",
      "2015-04-30  0.025467  0.002967 -0.031297  0.060201  0.053216  0.072153\n",
      "2015-05-31 -0.084437 -0.065089 -0.063079  0.211356 -0.141120  0.013670\n",
      "2015-06-30 -0.146474 -0.139241  0.041050 -0.075521  0.014202 -0.015560\n"
     ]
    }
   ],
   "source": [
    "universe =adj_price[['LG전자','현대차','NAVER','삼성물산','SK텔레콤','KT&G']].loc['2015-01-01':'2022-08-31']\n",
    "monthly_returns=universe.resample('M').last().pct_change(1)\n",
    "print(monthly_returns.head(6))\n"
   ]
  },
  {
   "cell_type": "code",
   "execution_count": 14,
   "id": "c88f40b3",
   "metadata": {},
   "outputs": [
    {
     "data": {
      "text/plain": [
       "array([0.1 , 0.3 , 0.25, 0.16, 0.09, 0.1 ])"
      ]
     },
     "metadata": {},
     "output_type": "display_data"
    }
   ],
   "source": [
    "# 유니버스 내 각 자산비중\n",
    "\n",
    "\n",
    "w_mkt=np.array([0.1,0.3,0.25,0.16,0.09,0.1])\n",
    "\n",
    "display(w_mkt)        \n"
   ]
  },
  {
   "cell_type": "code",
   "execution_count": 15,
   "id": "04563292",
   "metadata": {},
   "outputs": [
    {
     "name": "stdout",
     "output_type": "stream",
     "text": [
      "LG전자     0.134507\n",
      "현대차      0.066243\n",
      "NAVER    0.116272\n",
      "삼성물산     0.026999\n",
      "SK텔레콤    0.028111\n",
      "KT&G     0.021527\n",
      "dtype: float64\n"
     ]
    }
   ],
   "source": [
    "# 자산별 기대수익률 계산\n",
    "\n",
    "erk =monthly_returns.mean()*12\n",
    "\n",
    "print(erk)\n",
    "\n",
    "\n",
    "\n",
    "\n"
   ]
  },
  {
   "cell_type": "code",
   "execution_count": 16,
   "id": "1caa67f3",
   "metadata": {},
   "outputs": [
    {
     "name": "stdout",
     "output_type": "stream",
     "text": [
      "           LG전자       현대차     NAVER      삼성물산     SK텔레콤      KT&G\n",
      "LG전자   0.148066  0.048504  0.034077  0.035128  0.024171  0.001729\n",
      "현대차    0.048504  0.099635  0.022995  0.014120  0.026735  0.011621\n",
      "NAVER  0.034077  0.022995  0.098043  0.018678  0.011049 -0.000604\n",
      "삼성물산   0.035128  0.014120  0.018678  0.087265  0.009079 -0.003178\n",
      "SK텔레콤  0.024171  0.026735  0.011049  0.009079  0.045233  0.010370\n",
      "KT&G   0.001729  0.011621 -0.000604 -0.003178  0.010370  0.034119\n"
     ]
    }
   ],
   "source": [
    "# 공본산 구하기\n",
    "\n",
    "Sigma = monthly_returns.cov()*12\n",
    "print(Sigma)"
   ]
  },
  {
   "cell_type": "code",
   "execution_count": 17,
   "id": "03a95e55",
   "metadata": {},
   "outputs": [
    {
     "name": "stdout",
     "output_type": "stream",
     "text": [
      "0.07139398440619747 0.034978198331094196 2.041099536642833\n"
     ]
    }
   ],
   "source": [
    "# 람다 구하기\n",
    "\n",
    "# 포트폴리오 기대수익률\n",
    "expected_portfolio_return = monthly_returns.mean().multiply(w_mkt).sum()*12  \n",
    "\n",
    "# 포트폴리오 분산\n",
    "portfolio_variance = w_mkt.dot(Sigma).dot(w_mkt)\n",
    "\n",
    "lambd = expected_portfolio_return / portfolio_variance                       \n",
    "\n",
    "print(expected_portfolio_return,portfolio_variance,lambd )"
   ]
  },
  {
   "cell_type": "code",
   "execution_count": 18,
   "id": "b81dc3b3",
   "metadata": {},
   "outputs": [
    {
     "name": "stdout",
     "output_type": "stream",
     "text": [
      "LG전자     0.093576\n",
      "현대차      0.094538\n",
      "NAVER    0.079071\n",
      "삼성물산     0.054864\n",
      "SK텔레콤    0.040333\n",
      "KT&G     0.014991\n",
      "dtype: float64\n"
     ]
    }
   ],
   "source": [
    "#  균형기대 수익률 구하기\n",
    "\n",
    "Pi = lambd*Sigma.dot(w_mkt)\n",
    "\n",
    "print(Pi)\n",
    "\n",
    "\n",
    "\n",
    "\n"
   ]
  },
  {
   "cell_type": "code",
   "execution_count": 19,
   "id": "c9b2127c",
   "metadata": {},
   "outputs": [],
   "source": [
    "#  View 1 :  삼성물산의  수익률이 2%가 될 것으로 예상  \n",
    "#  View 2 :  LG전자 수익률이  현대차 수익률보다 3% 높을 것으로 예상 \n",
    "#  View 3 :  NAVER 수익률이  SK텔레콤, KT&G 수익률보다 1% 높을 것으로 예상\n",
    "\n",
    "\n",
    "# 전망 갯수 K와 vIew 벡터 설정\n",
    "K=3\n",
    "Q = np.array([0.02, 0.03, 0.01])\n",
    "assert Q.shape == (K,)\n"
   ]
  },
  {
   "cell_type": "code",
   "execution_count": 20,
   "id": "9ee0b851",
   "metadata": {},
   "outputs": [
    {
     "name": "stdout",
     "output_type": "stream",
     "text": [
      "[[ 0.   0.   0.   1.   0.   0. ]\n",
      " [ 1.  -1.   0.   0.   0.   0. ]\n",
      " [ 0.   0.   1.   0.  -0.5 -0.5]]\n"
     ]
    }
   ],
   "source": [
    "# Picking Matrix 생성 (뷰에 포함된 자산 명시)\n",
    "\n",
    "\n",
    "\n",
    "N=len(w_mkt)\n",
    "\n",
    "P = np.array([\n",
    "    [0, 0, 0, 1, 0, 0 ],\n",
    "    [1, -1, 0, 0, 0, 0],\n",
    "    [0, 0, 1, 0, -0.5, -0.5]])\n",
    "\n",
    "assert P.shape == (K, N)\n",
    "print(P)"
   ]
  },
  {
   "cell_type": "code",
   "execution_count": 21,
   "id": "449b3a25",
   "metadata": {},
   "outputs": [
    {
     "name": "stdout",
     "output_type": "stream",
     "text": [
      "[[0.08726477 0.         0.        ]\n",
      " [0.         0.15069238 0.        ]\n",
      " [0.         0.         0.11262086]]\n"
     ]
    }
   ],
   "source": [
    "# view의 불확실성을 나타내는 행렬( Uncertainty Matrix of Views)\n",
    "\n",
    "\n",
    "tau=1\n",
    "\n",
    "Omega = tau*P.dot(Sigma).dot(P.T)*np.eye(K) \n",
    "\n",
    "print(Omega)\n",
    "\n",
    "\n",
    "\n",
    "\n",
    "\n",
    "\n",
    "\n",
    "\n"
   ]
  },
  {
   "cell_type": "code",
   "execution_count": 16,
   "id": "31783844",
   "metadata": {},
   "outputs": [
    {
     "name": "stdout",
     "output_type": "stream",
     "text": [
      "LG전자     0.095430\n",
      "현대차      0.084555\n",
      "NAVER    0.060083\n",
      "삼성물산     0.037352\n",
      "SK텔레콤    0.041213\n",
      "KT&G     0.018474\n",
      "dtype: float64\n"
     ]
    }
   ],
   "source": [
    "# 위 과정을 종합하여 포트폴리오내 자산별 전망결합 기대수익률을 구한다.\n",
    "\n",
    "\n",
    "ER = Pi + tau*Sigma.dot(P.T).dot(np.linalg.inv(P.dot(tau*Sigma).dot(P.T) + Omega).dot(Q - P.dot(Pi)))\n",
    "\n",
    "print(ER)\n",
    "\n",
    "\n"
   ]
  },
  {
   "cell_type": "code",
   "execution_count": 17,
   "id": "dd62455d",
   "metadata": {},
   "outputs": [
    {
     "name": "stdout",
     "output_type": "stream",
     "text": [
      "LG전자     0.095430\n",
      "현대차      0.084555\n",
      "NAVER    0.060083\n",
      "삼성물산     0.037352\n",
      "SK텔레콤    0.041213\n",
      "KT&G     0.018474\n",
      "dtype: float64\n"
     ]
    }
   ],
   "source": [
    "# 전망결합기대수익률\n",
    "\n",
    "sub_1 = np.linalg.inv(np.dot(tau, Sigma))\n",
    "sub_2 = np.dot(np.dot(np.transpose(P), np.linalg.inv(Omega)), P)\n",
    "sub_3 = np.dot(np.linalg.inv(np.dot(tau, Sigma)), Pi)\n",
    "sub_4 = np.dot(np.dot(np.transpose(P), np.linalg.inv(Omega)), Q)\n",
    "Pi_adj = np.dot(np.linalg.inv(sub_1 + sub_2), (sub_3 + sub_4))\n",
    "\n",
    "\n",
    "Pi_adjs = pd.Series(Pi_adj, index=monthly_returns.columns)\n",
    "print(Pi_adjs)\n"
   ]
  },
  {
   "cell_type": "code",
   "execution_count": 18,
   "id": "cda7f111",
   "metadata": {
    "scrolled": true
   },
   "outputs": [
    {
     "data": {
      "text/plain": [
       "LG전자     0.179684\n",
       "현대차      0.263490\n",
       "NAVER    0.179435\n",
       "삼성물산     0.069334\n",
       "SK텔레콤    0.148489\n",
       "KT&G     0.159568\n",
       "dtype: float64"
      ]
     },
     "metadata": {},
     "output_type": "display_data"
    },
    {
     "data": {
      "text/plain": [
       "array([0.1 , 0.3 , 0.25, 0.16, 0.09, 0.1 ])"
      ]
     },
     "metadata": {},
     "output_type": "display_data"
    },
    {
     "data": {
      "text/plain": [
       "LG전자     0.079684\n",
       "현대차     -0.036510\n",
       "NAVER   -0.070565\n",
       "삼성물산    -0.090666\n",
       "SK텔레콤    0.058489\n",
       "KT&G     0.059568\n",
       "dtype: float64"
      ]
     },
     "metadata": {},
     "output_type": "display_data"
    }
   ],
   "source": [
    "# 투자비중 산출\n",
    "\n",
    "w_hat = lambd*np.linalg.inv(Sigma).dot(ER)\n",
    "w_hat = pd.Series(w_hat / w_hat.sum(), index=monthly_returns.columns)\n",
    "w_dif=w_hat - w_mkt\n",
    "display(w_hat,w_mkt,w_dif)\n",
    "\n"
   ]
  },
  {
   "cell_type": "code",
   "execution_count": 19,
   "id": "1b24982c",
   "metadata": {},
   "outputs": [
    {
     "data": {
      "text/plain": [
       "<AxesSubplot:>"
      ]
     },
     "execution_count": 19,
     "metadata": {},
     "output_type": "execute_result"
    },
    {
     "name": "stderr",
     "output_type": "stream",
     "text": [
      "C:\\ProgramData\\Anaconda3\\lib\\site-packages\\IPython\\core\\pylabtools.py:151: UserWarning: Glyph 8722 (\\N{MINUS SIGN}) missing from current font.\n",
      "  fig.canvas.print_figure(bytes_io, **kw)\n"
     ]
    },
    {
     "data": {
      "image/png": "[encoded data removed]",
      "text/plain": [
       "<Figure size 576x396 with 1 Axes>"
      ]
     },
     "metadata": {},
     "output_type": "display_data"
    }
   ],
   "source": [
    "#  모형 결과치 비중 (BL-Market)\n",
    "\n",
    "ww=np.concatenate( [w_hat.T,w_mkt.T,w_dif.T] )\n",
    "b = np.reshape(ww,(3,6))\n",
    "wdif=pd.DataFrame(b.T,columns=['BL','Market','차이'],index=monthly_returns.columns)\n",
    "wdif.plot.bar()"
   ]
  },
  {
   "cell_type": "code",
   "execution_count": null,
   "id": "1109a7c1",
   "metadata": {},
   "outputs": [],
   "source": []
  },
  {
   "cell_type": "code",
   "execution_count": null,
   "id": "7c7d4575",
   "metadata": {},
   "outputs": [],
   "source": []
  }
 ],
 "metadata": {
  "kernelspec": {
   "display_name": "Python 3 (ipykernel)",
   "language": "python",
   "name": "python3"
  },
  "language_info": {
   "codemirror_mode": {
    "name": "ipython",
    "version": 3
   },
   "file_extension": ".py",
   "mimetype": "text/x-python",
   "name": "python",
   "nbconvert_exporter": "python",
   "pygments_lexer": "ipython3",
   "version": "3.9.13"
  }
 },
 "nbformat": 4,
 "nbformat_minor": 5
}
